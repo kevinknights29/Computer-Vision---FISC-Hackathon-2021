{
 "cells": [
  {
   "cell_type": "code",
   "execution_count": 2,
   "id": "4a2908d5-df6b-4799-9f31-2260f50af786",
   "metadata": {},
   "outputs": [],
   "source": [
    "import pandas as pd\n",
    "import glob\n",
    "import os\n",
    "import statistics\n",
    "from pathlib import Path\n",
    "from bokeh.models import HoverTool\n",
    "from bokeh.plotting import figure, show\n",
    "import matplotlib.pyplot as plt\n",
    "import datetime\n",
    "import numpy as np"
   ]
  },
  {
   "cell_type": "code",
   "execution_count": 44,
   "id": "fc212f44-05e4-4645-94b5-41694666120c",
   "metadata": {},
   "outputs": [
    {
     "data": {
      "text/html": [
       "\n",
       "    <div class=\"bk-root\">\n",
       "        <a href=\"https://bokeh.org\" target=\"_blank\" class=\"bk-logo bk-logo-small bk-logo-notebook\"></a>\n",
       "        <span id=\"1205\">Loading BokehJS ...</span>\n",
       "    </div>"
      ]
     },
     "metadata": {},
     "output_type": "display_data"
    },
    {
     "data": {
      "application/javascript": "\n(function(root) {\n  function now() {\n    return new Date();\n  }\n\n  const force = true;\n\n  if (typeof root._bokeh_onload_callbacks === \"undefined\" || force === true) {\n    root._bokeh_onload_callbacks = [];\n    root._bokeh_is_loading = undefined;\n  }\n\n  const JS_MIME_TYPE = 'application/javascript';\n  const HTML_MIME_TYPE = 'text/html';\n  const EXEC_MIME_TYPE = 'application/vnd.bokehjs_exec.v0+json';\n  const CLASS_NAME = 'output_bokeh rendered_html';\n\n  /**\n   * Render data to the DOM node\n   */\n  function render(props, node) {\n    const script = document.createElement(\"script\");\n    node.appendChild(script);\n  }\n\n  /**\n   * Handle when an output is cleared or removed\n   */\n  function handleClearOutput(event, handle) {\n    const cell = handle.cell;\n\n    const id = cell.output_area._bokeh_element_id;\n    const server_id = cell.output_area._bokeh_server_id;\n    // Clean up Bokeh references\n    if (id != null && id in Bokeh.index) {\n      Bokeh.index[id].model.document.clear();\n      delete Bokeh.index[id];\n    }\n\n    if (server_id !== undefined) {\n      // Clean up Bokeh references\n      const cmd_clean = \"from bokeh.io.state import curstate; print(curstate().uuid_to_server['\" + server_id + \"'].get_sessions()[0].document.roots[0]._id)\";\n      cell.notebook.kernel.execute(cmd_clean, {\n        iopub: {\n          output: function(msg) {\n            const id = msg.content.text.trim();\n            if (id in Bokeh.index) {\n              Bokeh.index[id].model.document.clear();\n              delete Bokeh.index[id];\n            }\n          }\n        }\n      });\n      // Destroy server and session\n      const cmd_destroy = \"import bokeh.io.notebook as ion; ion.destroy_server('\" + server_id + \"')\";\n      cell.notebook.kernel.execute(cmd_destroy);\n    }\n  }\n\n  /**\n   * Handle when a new output is added\n   */\n  function handleAddOutput(event, handle) {\n    const output_area = handle.output_area;\n    const output = handle.output;\n\n    // limit handleAddOutput to display_data with EXEC_MIME_TYPE content only\n    if ((output.output_type != \"display_data\") || (!Object.prototype.hasOwnProperty.call(output.data, EXEC_MIME_TYPE))) {\n      return\n    }\n\n    const toinsert = output_area.element.find(\".\" + CLASS_NAME.split(' ')[0]);\n\n    if (output.metadata[EXEC_MIME_TYPE][\"id\"] !== undefined) {\n      toinsert[toinsert.length - 1].firstChild.textContent = output.data[JS_MIME_TYPE];\n      // store reference to embed id on output_area\n      output_area._bokeh_element_id = output.metadata[EXEC_MIME_TYPE][\"id\"];\n    }\n    if (output.metadata[EXEC_MIME_TYPE][\"server_id\"] !== undefined) {\n      const bk_div = document.createElement(\"div\");\n      bk_div.innerHTML = output.data[HTML_MIME_TYPE];\n      const script_attrs = bk_div.children[0].attributes;\n      for (let i = 0; i < script_attrs.length; i++) {\n        toinsert[toinsert.length - 1].firstChild.setAttribute(script_attrs[i].name, script_attrs[i].value);\n        toinsert[toinsert.length - 1].firstChild.textContent = bk_div.children[0].textContent\n      }\n      // store reference to server id on output_area\n      output_area._bokeh_server_id = output.metadata[EXEC_MIME_TYPE][\"server_id\"];\n    }\n  }\n\n  function register_renderer(events, OutputArea) {\n\n    function append_mime(data, metadata, element) {\n      // create a DOM node to render to\n      const toinsert = this.create_output_subarea(\n        metadata,\n        CLASS_NAME,\n        EXEC_MIME_TYPE\n      );\n      this.keyboard_manager.register_events(toinsert);\n      // Render to node\n      const props = {data: data, metadata: metadata[EXEC_MIME_TYPE]};\n      render(props, toinsert[toinsert.length - 1]);\n      element.append(toinsert);\n      return toinsert\n    }\n\n    /* Handle when an output is cleared or removed */\n    events.on('clear_output.CodeCell', handleClearOutput);\n    events.on('delete.Cell', handleClearOutput);\n\n    /* Handle when a new output is added */\n    events.on('output_added.OutputArea', handleAddOutput);\n\n    /**\n     * Register the mime type and append_mime function with output_area\n     */\n    OutputArea.prototype.register_mime_type(EXEC_MIME_TYPE, append_mime, {\n      /* Is output safe? */\n      safe: true,\n      /* Index of renderer in `output_area.display_order` */\n      index: 0\n    });\n  }\n\n  // register the mime type if in Jupyter Notebook environment and previously unregistered\n  if (root.Jupyter !== undefined) {\n    const events = require('base/js/events');\n    const OutputArea = require('notebook/js/outputarea').OutputArea;\n\n    if (OutputArea.prototype.mime_types().indexOf(EXEC_MIME_TYPE) == -1) {\n      register_renderer(events, OutputArea);\n    }\n  }\n\n  \n  if (typeof (root._bokeh_timeout) === \"undefined\" || force === true) {\n    root._bokeh_timeout = Date.now() + 5000;\n    root._bokeh_failed_load = false;\n  }\n\n  const NB_LOAD_WARNING = {'data': {'text/html':\n     \"<div style='background-color: #fdd'>\\n\"+\n     \"<p>\\n\"+\n     \"BokehJS does not appear to have successfully loaded. If loading BokehJS from CDN, this \\n\"+\n     \"may be due to a slow or bad network connection. Possible fixes:\\n\"+\n     \"</p>\\n\"+\n     \"<ul>\\n\"+\n     \"<li>re-rerun `output_notebook()` to attempt to load from CDN again, or</li>\\n\"+\n     \"<li>use INLINE resources instead, as so:</li>\\n\"+\n     \"</ul>\\n\"+\n     \"<code>\\n\"+\n     \"from bokeh.resources import INLINE\\n\"+\n     \"output_notebook(resources=INLINE)\\n\"+\n     \"</code>\\n\"+\n     \"</div>\"}};\n\n  function display_loaded() {\n    const el = document.getElementById(\"1205\");\n    if (el != null) {\n      el.textContent = \"BokehJS is loading...\";\n    }\n    if (root.Bokeh !== undefined) {\n      if (el != null) {\n        el.textContent = \"BokehJS \" + root.Bokeh.version + \" successfully loaded.\";\n      }\n    } else if (Date.now() < root._bokeh_timeout) {\n      setTimeout(display_loaded, 100)\n    }\n  }\n\n\n  function run_callbacks() {\n    try {\n      root._bokeh_onload_callbacks.forEach(function(callback) {\n        if (callback != null)\n          callback();\n      });\n    } finally {\n      delete root._bokeh_onload_callbacks\n    }\n    console.debug(\"Bokeh: all callbacks have finished\");\n  }\n\n  function load_libs(css_urls, js_urls, callback) {\n    if (css_urls == null) css_urls = [];\n    if (js_urls == null) js_urls = [];\n\n    root._bokeh_onload_callbacks.push(callback);\n    if (root._bokeh_is_loading > 0) {\n      console.debug(\"Bokeh: BokehJS is being loaded, scheduling callback at\", now());\n      return null;\n    }\n    if (js_urls == null || js_urls.length === 0) {\n      run_callbacks();\n      return null;\n    }\n    console.debug(\"Bokeh: BokehJS not loaded, scheduling load and callback at\", now());\n    root._bokeh_is_loading = css_urls.length + js_urls.length;\n\n    function on_load() {\n      root._bokeh_is_loading--;\n      if (root._bokeh_is_loading === 0) {\n        console.debug(\"Bokeh: all BokehJS libraries/stylesheets loaded\");\n        run_callbacks()\n      }\n    }\n\n    function on_error(url) {\n      console.error(\"failed to load \" + url);\n    }\n\n    for (let i = 0; i < css_urls.length; i++) {\n      const url = css_urls[i];\n      const element = document.createElement(\"link\");\n      element.onload = on_load;\n      element.onerror = on_error.bind(null, url);\n      element.rel = \"stylesheet\";\n      element.type = \"text/css\";\n      element.href = url;\n      console.debug(\"Bokeh: injecting link tag for BokehJS stylesheet: \", url);\n      document.body.appendChild(element);\n    }\n\n    for (let i = 0; i < js_urls.length; i++) {\n      const url = js_urls[i];\n      const element = document.createElement('script');\n      element.onload = on_load;\n      element.onerror = on_error.bind(null, url);\n      element.async = false;\n      element.src = url;\n      console.debug(\"Bokeh: injecting script tag for BokehJS library: \", url);\n      document.head.appendChild(element);\n    }\n  };\n\n  function inject_raw_css(css) {\n    const element = document.createElement(\"style\");\n    element.appendChild(document.createTextNode(css));\n    document.body.appendChild(element);\n  }\n\n  \n  const js_urls = [\"https://cdn.bokeh.org/bokeh/release/bokeh-2.4.1.min.js\", \"https://cdn.bokeh.org/bokeh/release/bokeh-gl-2.4.1.min.js\", \"https://cdn.bokeh.org/bokeh/release/bokeh-widgets-2.4.1.min.js\", \"https://cdn.bokeh.org/bokeh/release/bokeh-tables-2.4.1.min.js\", \"https://cdn.bokeh.org/bokeh/release/bokeh-mathjax-2.4.1.min.js\"];\n  const css_urls = [];\n  \n\n  const inline_js = [\n    function(Bokeh) {\n      Bokeh.set_log_level(\"info\");\n    },\n    function(Bokeh) {\n    \n    \n    }\n  ];\n\n  function run_inline_js() {\n    \n    if (root.Bokeh !== undefined || force === true) {\n      \n    for (let i = 0; i < inline_js.length; i++) {\n      inline_js[i].call(root, root.Bokeh);\n    }\n    if (force === true) {\n        display_loaded();\n      }} else if (Date.now() < root._bokeh_timeout) {\n      setTimeout(run_inline_js, 100);\n    } else if (!root._bokeh_failed_load) {\n      console.log(\"Bokeh: BokehJS failed to load within specified timeout.\");\n      root._bokeh_failed_load = true;\n    } else if (force !== true) {\n      const cell = $(document.getElementById(\"1205\")).parents('.cell').data().cell;\n      cell.output_area.append_execute_result(NB_LOAD_WARNING)\n    }\n\n  }\n\n  if (root._bokeh_is_loading === 0) {\n    console.debug(\"Bokeh: BokehJS loaded, going straight to plotting\");\n    run_inline_js();\n  } else {\n    load_libs(css_urls, js_urls, function() {\n      console.debug(\"Bokeh: BokehJS plotting callback run at\", now());\n      run_inline_js();\n    });\n  }\n}(window));",
      "application/vnd.bokehjs_load.v0+json": ""
     },
     "metadata": {},
     "output_type": "display_data"
    }
   ],
   "source": [
    "import bokeh.io\n",
    "bokeh.io.reset_output()\n",
    "bokeh.io.output_notebook()"
   ]
  },
  {
   "cell_type": "code",
   "execution_count": 3,
   "id": "9fd5cd55-36b6-4bad-8182-8e56b4c43408",
   "metadata": {},
   "outputs": [
    {
     "name": "stdout",
     "output_type": "stream",
     "text": [
      "None\n"
     ]
    },
    {
     "data": {
      "image/png": "[encoded data removed]",
      "text/plain": [
       "<Figure size 432x288 with 1 Axes>"
      ]
     },
     "metadata": {
      "needs_background": "light"
     },
     "output_type": "display_data"
    }
   ],
   "source": [
    "# Interactions Histogram\n",
    "def freqdect():\n",
    "    path = os.getcwd() +'\\*.csv'\n",
    "    data = pd.DataFrame()\n",
    "    for fname in glob.glob(path):\n",
    "        df = pd.read_csv(fname)\n",
    "        data = data.append(df,ignore_index=True)\n",
    "    plt.hist(data['Emotion'])\n",
    "    \n",
    "print(freqdect())"
   ]
  },
  {
   "cell_type": "code",
   "execution_count": 16,
   "id": "7ae7bef5-53f1-47ce-aaf5-403e2bc7aab5",
   "metadata": {},
   "outputs": [
    {
     "data": {
      "text/html": [
       "<div>\n",
       "<style scoped>\n",
       "    .dataframe tbody tr th:only-of-type {\n",
       "        vertical-align: middle;\n",
       "    }\n",
       "\n",
       "    .dataframe tbody tr th {\n",
       "        vertical-align: top;\n",
       "    }\n",
       "\n",
       "    .dataframe thead th {\n",
       "        text-align: right;\n",
       "    }\n",
       "</style>\n",
       "<table border=\"1\" class=\"dataframe\">\n",
       "  <thead>\n",
       "    <tr style=\"text-align: right;\">\n",
       "      <th></th>\n",
       "      <th>student_id</th>\n",
       "      <th>attention_mean</th>\n",
       "      <th>attention_std</th>\n",
       "      <th>npa_count</th>\n",
       "      <th>npa_pct</th>\n",
       "      <th>attention_score</th>\n",
       "      <th>result</th>\n",
       "    </tr>\n",
       "  </thead>\n",
       "  <tbody>\n",
       "    <tr>\n",
       "      <th>0</th>\n",
       "      <td>8-141-1385</td>\n",
       "      <td>-0.103194</td>\n",
       "      <td>0.993439</td>\n",
       "      <td>116.0</td>\n",
       "      <td>0.549763</td>\n",
       "      <td>0.450237</td>\n",
       "      <td>Lack of Attention</td>\n",
       "    </tr>\n",
       "    <tr>\n",
       "      <th>1</th>\n",
       "      <td>8-357-1002</td>\n",
       "      <td>-0.517179</td>\n",
       "      <td>0.851017</td>\n",
       "      <td>232.0</td>\n",
       "      <td>0.755700</td>\n",
       "      <td>0.244300</td>\n",
       "      <td>Lack of Attention</td>\n",
       "    </tr>\n",
       "    <tr>\n",
       "      <th>2</th>\n",
       "      <td>8-914-1545</td>\n",
       "      <td>0.658480</td>\n",
       "      <td>0.748201</td>\n",
       "      <td>33.0</td>\n",
       "      <td>0.168367</td>\n",
       "      <td>0.831633</td>\n",
       "      <td>Good Attention</td>\n",
       "    </tr>\n",
       "  </tbody>\n",
       "</table>\n",
       "</div>"
      ],
      "text/plain": [
       "   student_id  attention_mean  attention_std  npa_count   npa_pct  \\\n",
       "0  8-141-1385       -0.103194       0.993439      116.0  0.549763   \n",
       "1  8-357-1002       -0.517179       0.851017      232.0  0.755700   \n",
       "2  8-914-1545        0.658480       0.748201       33.0  0.168367   \n",
       "\n",
       "   attention_score             result  \n",
       "0         0.450237  Lack of Attention  \n",
       "1         0.244300  Lack of Attention  \n",
       "2         0.831633     Good Attention  "
      ]
     },
     "execution_count": 16,
     "metadata": {},
     "output_type": "execute_result"
    }
   ],
   "source": [
    "# Data frame with the students' interactions metrics\n",
    "def attention_analytics():\n",
    "    path = os.getcwd() +'\\*.csv'\n",
    "    data = pd.DataFrame()\n",
    "    for fname in glob.glob(path):\n",
    "        df = pd.read_csv(fname)\n",
    "        student_id = Path(fname).stem\n",
    "        df['Emotion_Value'].where(~(df['Emotion'] == 'not paying attention'), other=-1, inplace=True)\n",
    "        std = df['Emotion_Value'].std() #Desviacion estandar\n",
    "        median = df['Emotion_Value'].median() #Media\n",
    "        mean = df['Emotion_Value'].mean()\n",
    "        npa_count = df['Emotion'].loc[df['Emotion'] == 'not paying attention'].count()\n",
    "        npa_pct = npa_count / df['Emotion'].count()\n",
    "        score = 1 - npa_pct\n",
    "        result = ''\n",
    "        if score >= 0.8:\n",
    "            result = 'Good Attention'\n",
    "        elif (0.8 > score) and (score >= 0.5):\n",
    "            result = 'Regular Attention'\n",
    "        else:\n",
    "            result = 'Lack of Attention'\n",
    "        estudiante={'student_id':student_id,'attention_mean':mean, 'attention_std':std, 'npa_count': npa_count, 'npa_pct': npa_pct, 'attention_score': score, 'result': result}\n",
    "        data = data.append(estudiante,ignore_index=True)\n",
    "    return data[['student_id','attention_mean','attention_std','npa_count', 'npa_pct', 'attention_score', 'result']]\n",
    "        \n",
    "    \n",
    "attention_analytics()"
   ]
  },
  {
   "cell_type": "code",
   "execution_count": 59,
   "id": "c6ddecc9-f8db-4461-b2a4-b62b6cca2613",
   "metadata": {},
   "outputs": [
    {
     "data": {
      "text/html": [
       "\n",
       "\n",
       "\n",
       "\n",
       "\n",
       "\n",
       "  <div class=\"bk-root\" id=\"06447e1d-a5a9-4f7b-8304-4af25a14fa46\" data-root-id=\"3263\"></div>\n"
      ]
     },
     "metadata": {},
     "output_type": "display_data"
    },
    {
     "data": {
      "application/javascript": "(function(root) {\n  function embed_document(root) {\n    \n  const docs_json = {\"a82c17d2-a38b-41cb-949e-efb9b1dff0fd\":{\"defs\":[],\"roots\":{\"references\":[{\"attributes\":{\"below\":[{\"id\":\"3274\"}],\"center\":[{\"id\":\"3277\"},{\"id\":\"3281\"}],\"height\":700,\"left\":[{\"id\":\"3278\"}],\"renderers\":[{\"id\":\"3300\"},{\"id\":\"3307\"}],\"title\":{\"id\":\"3264\"},\"toolbar\":{\"id\":\"3289\"},\"width\":700,\"x_range\":{\"id\":\"3266\"},\"x_scale\":{\"id\":\"3270\"},\"y_range\":{\"id\":\"3268\"},\"y_scale\":{\"id\":\"3272\"}},\"id\":\"3263\",\"subtype\":\"Figure\",\"type\":\"Plot\"},{\"attributes\":{},\"id\":\"3447\",\"type\":\"AllLabels\"},{\"attributes\":{},\"id\":\"3444\",\"type\":\"AllLabels\"},{\"attributes\":{\"tools\":[{\"id\":\"3282\"},{\"id\":\"3283\"},{\"id\":\"3284\"},{\"id\":\"3285\"},{\"id\":\"3286\"},{\"id\":\"3287\"}]},\"id\":\"3289\",\"type\":\"Toolbar\"},{\"attributes\":{\"line_color\":\"blue\",\"line_width\":3,\"x\":{\"field\":\"index\"},\"y\":{\"field\":\"Mean_Values\"}},\"id\":\"3304\",\"type\":\"Line\"},{\"attributes\":{\"fill_alpha\":{\"value\":0.1},\"fill_color\":{\"value\":\"red\"},\"hatch_alpha\":{\"value\":0.1},\"hatch_color\":{\"value\":\"red\"},\"line_alpha\":{\"value\":0.1},\"line_color\":{\"value\":\"red\"},\"size\":{\"value\":10},\"x\":{\"field\":\"x\"},\"y\":{\"field\":\"y\"}},\"id\":\"3298\",\"type\":\"Circle\"},{\"attributes\":{},\"id\":\"3272\",\"type\":\"LinearScale\"},{\"attributes\":{},\"id\":\"3446\",\"type\":\"BasicTickFormatter\"},{\"attributes\":{},\"id\":\"3268\",\"type\":\"DataRange1d\"},{\"attributes\":{},\"id\":\"3270\",\"type\":\"LinearScale\"},{\"attributes\":{\"coordinates\":null,\"data_source\":{\"id\":\"3302\"},\"glyph\":{\"id\":\"3304\"},\"group\":null,\"hover_glyph\":null,\"muted_glyph\":{\"id\":\"3306\"},\"nonselection_glyph\":{\"id\":\"3305\"},\"view\":{\"id\":\"3308\"}},\"id\":\"3307\",\"type\":\"GlyphRenderer\"},{\"attributes\":{\"source\":{\"id\":\"3302\"}},\"id\":\"3308\",\"type\":\"CDSView\"},{\"attributes\":{\"fill_color\":{\"value\":\"red\"},\"hatch_color\":{\"value\":\"red\"},\"line_color\":{\"value\":\"red\"},\"size\":{\"value\":10},\"x\":{\"field\":\"x\"},\"y\":{\"field\":\"y\"}},\"id\":\"3297\",\"type\":\"Circle\"},{\"attributes\":{},\"id\":\"3443\",\"type\":\"BasicTickFormatter\"},{\"attributes\":{\"fill_alpha\":{\"value\":0.2},\"fill_color\":{\"value\":\"red\"},\"hatch_alpha\":{\"value\":0.2},\"hatch_color\":{\"value\":\"red\"},\"line_alpha\":{\"value\":0.2},\"line_color\":{\"value\":\"red\"},\"size\":{\"value\":10},\"x\":{\"field\":\"x\"},\"y\":{\"field\":\"y\"}},\"id\":\"3299\",\"type\":\"Circle\"},{\"attributes\":{\"bottom_units\":\"screen\",\"coordinates\":null,\"fill_alpha\":0.5,\"fill_color\":\"lightgrey\",\"group\":null,\"left_units\":\"screen\",\"level\":\"overlay\",\"line_alpha\":1.0,\"line_color\":\"black\",\"line_dash\":[4,4],\"line_width\":2,\"right_units\":\"screen\",\"syncable\":false,\"top_units\":\"screen\"},\"id\":\"3288\",\"type\":\"BoxAnnotation\"},{\"attributes\":{\"line_alpha\":0.2,\"line_color\":\"blue\",\"line_width\":3,\"x\":{\"field\":\"index\"},\"y\":{\"field\":\"Mean_Values\"}},\"id\":\"3306\",\"type\":\"Line\"},{\"attributes\":{},\"id\":\"3450\",\"type\":\"UnionRenderers\"},{\"attributes\":{\"coordinates\":null,\"data_source\":{\"id\":\"3296\"},\"glyph\":{\"id\":\"3297\"},\"group\":null,\"hover_glyph\":null,\"muted_glyph\":{\"id\":\"3299\"},\"nonselection_glyph\":{\"id\":\"3298\"},\"view\":{\"id\":\"3301\"}},\"id\":\"3300\",\"type\":\"GlyphRenderer\"},{\"attributes\":{\"data\":{\"x\":[44,45,46,47,48,49,50,51,59,61,62,63,65,67,71,72,73,74,75,76,77,78,79,85,86,87,88,89,90,91,92,93,94,95,96,97,98,99,100,101,109,110,111,112,113,121,122,123,124,125,126,127,128,129,130,131,132,133,134,135,136,137,138,139,140,141,146,147,148,149,150,151,152,153,154,155,156,157,158,159,160,161,162,163,164,165,166,167,168,169,170,171,172,173,174,175,176,177,178,179,181,182,183,184,185,186,187,188,189,190,191,192,193,194,195],\"y\":{\"__ndarray__\":\"jVBGb8ta1b+NUEZvy1rVv1VVVVVVVdW/VVVVVVVV1b+NUEZvy1rVv41QRm/LWtW/jVBGb8ta1b+NUEZvy1rVv41QRm/LWtW/jVBGb8ta1b8ARyijt2XVvwBHKKO3ZdW/OEIZvS1r1b9VVVVVVVXVv8dLN4lBYNW/OEIZvS1r1b8bL90kBoHVv4v6N0IZvdW/OPvwGXYF2L8AAAAAAADwvwAAAAAAAPC/AAAAAAAA8L/78Bl2BcjVv8dLN4lBYNW/jVBGb8ta1b8ARyijt2XVvwBHKKO3ZdW//RuhjN6W1b9TKs4+fIbVvwBHKKO3ZdW/jVBGb8ta1b8bL90kBoHVv3A9CtejcNW/qTj78Bl21b8bL90kBoHVvzhCGb0ta9W/S36x5BdL1r8PLbKd76fWvzhCGb0ta9W/NReSplSc1b8bL90kBoHVvxsv3SQGgdW/haQpFWcf1r8ARyijt2XVv8dLN4lBYNW/UyrOPnyG1b84Qhm9LWvVv3A9CtejcNW/UyrOPnyG1b/HSzeJQWDVv41QRm/LWtW/OEIZvS1r1b9VVVVVVVXVv41QRm/LWtW/jVBGb8ta1b+NUEZvy1rVv41QRm/LWtW/jVBGb8ta1b+NUEZvy1rVv41QRm/LWtW/VVVVVVVV1b+NUEZvy1rVvwBHKKO3ZdW/x0s3iUFg1b/HSzeJQWDVvwBHKKO3ZdW/jVBGb8ta1b/HSzeJQWDVv8dLN4lBYNW/cD0K16Nw1b9VVVVVVVXVvzhCGb0ta9W/jVBGb8ta1b9VVVVVVVXVv41QRm/LWtW/cD0K16Nw1b/HSzeJQWDVv41QRm/LWtW/x0s3iUFg1b9VVVVVVVXVv8dLN4lBYNW/x0s3iUFg1b9wPQrXo3DVv8UgsHJokdW/OEIZvS1r1b8ARyijt2XVv8dLN4lBYNW/cD0K16Nw1b/HSzeJQWDVv1VVVVVVVdW/AEcoo7dl1b9VVVVVVVXVv41QRm/LWtW/VVVVVVVV1b/HSzeJQWDVv8dLN4lBYNW/x0s3iUFg1b+NUEZvy1rVv41QRm/LWtW/jVBGb8ta1b+NUEZvy1rVv8dLN4lBYNW/jVBGb8ta1b+NUEZvy1rVv41QRm/LWtW/x0s3iUFg1b+NUEZvy1rVv41QRm/LWtW/AEcoo7dl1b/gCGX0tqzVv/vwGXYFyNW/jVBGb8ta1b+NUEZvy1rVv+Mz7AqQe9W/jVBGb8ta1b8=\",\"dtype\":\"float64\",\"order\":\"little\",\"shape\":[115]}},\"selected\":{\"id\":\"3449\"},\"selection_policy\":{\"id\":\"3448\"}},\"id\":\"3296\",\"type\":\"ColumnDataSource\"},{\"attributes\":{\"axis_label\":\"Time\",\"coordinates\":null,\"formatter\":{\"id\":\"3446\"},\"group\":null,\"major_label_policy\":{\"id\":\"3447\"},\"ticker\":{\"id\":\"3275\"}},\"id\":\"3274\",\"type\":\"LinearAxis\"},{\"attributes\":{},\"id\":\"3449\",\"type\":\"Selection\"},{\"attributes\":{\"line_alpha\":0.1,\"line_color\":\"blue\",\"line_width\":3,\"x\":{\"field\":\"index\"},\"y\":{\"field\":\"Mean_Values\"}},\"id\":\"3305\",\"type\":\"Line\"},{\"attributes\":{\"data\":{\"Mean_Values\":{\"__ndarray__\":\"AyuHFtnO7z+7u7u7u7vvP/S2rNUxwe8/S8XZh8+w7z8U9W+EMnrvP6uqqqqqqu4/vLu7u7u77z/nQtKUirPvPwRWDi2yne8/L90kBoGV7z/ziyW/WPLvP2WtjgkezO8/HRM8mCfq7z9zIWlKxdnvPy2yne+nxu8/EJ9hV4Dc7z+fqH8jlNHvPwMrhxbZzu8/H4XrUbge1T/lF0t+seTHP9jO91Pjpe8/6LSBThvo1D/kXnMhaUrVP6tjggfzRNU/5F5zIWlK1T+rY4IH80TVPzptoNMGOtU/5F5zIWlK1T/JL5b8YsnvPxCfYVeA3O8/q2OCB/NE1T86baDTBjrVP4cW2c73U+8/sZ3vp8ZL7z9vWatjggfvP7u7u7u7u+8/EJ9hV4Dc7z+QNKXi7MPvPx0TPJgn6u8/cyFpSsXZ7z9zaJHtfD/VPwFyr7mQNNU/PJgn6t8I1T9YgNxrLiTVP41QRm/LWtW/jVBGb8ta1b9VVVVVVVXVv1VVVVVVVdW/jVBGb8ta1b+NUEZvy1rVv41QRm/LWtW/jVBGb8ta1b/TTWIQWDnUP1UOLbKd7+8/gZVDi2zn7z/lF0t+seTvP48JHswT9e8/yHa+nxov1T+rY4IH80TVP41QRm/LWtW/Om2g0wY61T+NUEZvy1rVvwBHKKO3ZdW/AEcoo7dl1b+tjgkezBPVPzhCGb0ta9W/kHvNhaQp1T9VVVVVVVXVv0iaUnH24e8/0LArQO417z9YgNxrLiTVP8dLN4lBYNW/OEIZvS1r1b8bL90kBoHVv4v6N0IZvdW/OPvwGXYF2L8AAAAAAADwvwAAAAAAAPC/AAAAAAAA8L/78Bl2BcjVv+Olm8QgsNI/5F5zIWlK1T8w3SQGgZXvPzEIrBxaZO8/H4XrUbge1T/HSzeJQWDVv41QRm/LWtW/AEcoo7dl1b8ARyijt2XVv/0boYzeltW/UyrOPnyG1b8ARyijt2XVv41QRm/LWtW/Gy/dJAaB1b9wPQrXo3DVv6k4+/AZdtW/Gy/dJAaB1b84Qhm9LWvVv0t+seQXS9a/Dy2yne+n1r84Qhm9LWvVvzUXkqZUnNW/W9bqmODB1D/wYJ6ofyPUP1mrY4IH89Q/0GkDnTbQ0T88mCfq3wjVPwFyr7mQNNU/d76fGi/d1D8bL90kBoHVvxsv3SQGgdW/haQpFWcf1r8ARyijt2XVv8dLN4lBYNW/lvxiyS+W1D8DnTbQaQPVP1mrY4IH89Q/Om2g0wY61T/Jdr6fGi/VP4PAyqFFttM/AXKvuZA01T9TKs4+fIbVvzhCGb0ta9W/cD0K16Nw1b9TKs4+fIbVv8dLN4lBYNW/jVBGb8ta1b84Qhm9LWvVv1VVVVVVVdW/jVBGb8ta1b+NUEZvy1rVv41QRm/LWtW/jVBGb8ta1b+NUEZvy1rVv41QRm/LWtW/jVBGb8ta1b9VVVVVVVXVv41QRm/LWtW/AEcoo7dl1b/HSzeJQWDVv8dLN4lBYNW/AEcoo7dl1b/Jdr6fGi/VPyPb+X5qvNQ/rdUxwYN50j+h0wY6baDTP41QRm/LWtW/x0s3iUFg1b/HSzeJQWDVv3A9CtejcNW/VVVVVVVV1b84Qhm9LWvVv41QRm/LWtW/VVVVVVVV1b+NUEZvy1rVv3A9CtejcNW/x0s3iUFg1b+NUEZvy1rVv8dLN4lBYNW/VVVVVVVV1b/HSzeJQWDVv8dLN4lBYNW/cD0K16Nw1b/FILByaJHVvzhCGb0ta9W/AEcoo7dl1b/HSzeJQWDVv3A9CtejcNW/x0s3iUFg1b9VVVVVVVXVvwBHKKO3ZdW/VVVVVVVV1b+NUEZvy1rVv1VVVVVVVdW/x0s3iUFg1b/HSzeJQWDVv8dLN4lBYNW/jVBGb8ta1b+NUEZvy1rVv41QRm/LWtW/yXa+nxov1T+NUEZvy1rVv8dLN4lBYNW/jVBGb8ta1b+NUEZvy1rVv41QRm/LWtW/x0s3iUFg1b+NUEZvy1rVv41QRm/LWtW/AEcoo7dl1b/gCGX0tqzVv/vwGXYFyNW/jVBGb8ta1b+NUEZvy1rVv+Mz7AqQe9W/jVBGb8ta1b8=\",\"dtype\":\"float64\",\"order\":\"little\",\"shape\":[196]},\"Timestamp\":[\"2021-11-20 20:57:37.601751\",\"2021-11-20 20:57:38.007819\",\"2021-11-20 20:57:38.417776\",\"2021-11-20 20:57:38.814786\",\"2021-11-20 20:57:39.202925\",\"2021-11-20 20:57:39.630000\",\"2021-11-20 20:57:40.061221\",\"2021-11-20 20:57:40.513789\",\"2021-11-20 20:57:40.903915\",\"2021-11-20 20:57:41.290620\",\"2021-11-20 20:57:41.694945\",\"2021-11-20 20:57:42.094914\",\"2021-11-20 20:57:42.581434\",\"2021-11-20 20:57:43.272052\",\"2021-11-20 20:57:43.677792\",\"2021-11-20 20:57:44.078532\",\"2021-11-20 20:57:44.633859\",\"2021-11-20 20:57:45.069619\",\"2021-11-20 20:57:45.515288\",\"2021-11-20 20:57:45.909832\",\"2021-11-20 20:57:46.399242\",\"2021-11-20 20:57:46.828845\",\"2021-11-20 20:57:47.246158\",\"2021-11-20 20:57:47.678401\",\"2021-11-20 20:57:48.167550\",\"2021-11-20 20:57:48.610843\",\"2021-11-20 20:57:49.002608\",\"2021-11-20 20:57:49.406600\",\"2021-11-20 20:57:49.808040\",\"2021-11-20 20:57:50.241482\",\"2021-11-20 20:57:50.647116\",\"2021-11-20 20:57:51.082102\",\"2021-11-20 20:57:51.492971\",\"2021-11-20 20:57:51.900754\",\"2021-11-20 20:57:52.304410\",\"2021-11-20 20:57:52.749626\",\"2021-11-20 20:57:53.269617\",\"2021-11-20 20:57:53.698595\",\"2021-11-20 20:57:54.185013\",\"2021-11-20 20:57:54.646500\",\"2021-11-20 20:57:55.091909\",\"2021-11-20 20:57:55.495740\",\"2021-11-20 20:57:55.910632\",\"2021-11-20 20:57:56.328962\",\"2021-11-20 20:57:56.723663\",\"2021-11-20 20:57:57.159335\",\"2021-11-20 20:57:57.575833\",\"2021-11-20 20:57:57.954754\",\"2021-11-20 20:57:58.385572\",\"2021-11-20 20:57:58.792885\",\"2021-11-20 20:57:59.189911\",\"2021-11-20 20:57:59.601610\",\"2021-11-20 20:58:00.028042\",\"2021-11-20 20:58:00.421967\",\"2021-11-20 20:58:01.105742\",\"2021-11-20 20:58:01.502203\",\"2021-11-20 20:58:01.903952\",\"2021-11-20 20:58:02.353862\",\"2021-11-20 20:58:02.762388\",\"2021-11-20 20:58:03.194367\",\"2021-11-20 20:58:03.638256\",\"2021-11-20 20:58:04.015288\",\"2021-11-20 20:58:04.555520\",\"2021-11-20 20:58:04.951221\",\"2021-11-20 20:58:05.333419\",\"2021-11-20 20:58:05.737775\",\"2021-11-20 20:58:06.192061\",\"2021-11-20 20:58:06.588812\",\"2021-11-20 20:58:07.035687\",\"2021-11-20 20:58:07.497673\",\"2021-11-20 20:58:07.887159\",\"2021-11-20 20:58:08.353131\",\"2021-11-20 20:58:08.798696\",\"2021-11-20 20:58:09.310751\",\"2021-11-20 20:58:09.752890\",\"2021-11-20 20:58:10.150073\",\"2021-11-20 20:58:10.481859\",\"2021-11-20 20:58:10.666405\",\"2021-11-20 20:58:10.855520\",\"2021-11-20 20:58:11.136138\",\"2021-11-20 20:58:11.333726\",\"2021-11-20 20:58:11.567852\",\"2021-11-20 20:58:11.983207\",\"2021-11-20 20:58:12.380694\",\"2021-11-20 20:58:12.879844\",\"2021-11-20 20:58:13.072834\",\"2021-11-20 20:58:13.257137\",\"2021-11-20 20:58:13.508522\",\"2021-11-20 20:58:13.694798\",\"2021-11-20 20:58:13.956296\",\"2021-11-20 20:58:14.129847\",\"2021-11-20 20:58:14.318471\",\"2021-11-20 20:58:14.558032\",\"2021-11-20 20:58:14.749664\",\"2021-11-20 20:58:14.932286\",\"2021-11-20 20:58:15.151170\",\"2021-11-20 20:58:15.343681\",\"2021-11-20 20:58:15.529236\",\"2021-11-20 20:58:15.807544\",\"2021-11-20 20:58:15.994356\",\"2021-11-20 20:58:16.175782\",\"2021-11-20 20:58:16.474167\",\"2021-11-20 20:58:16.665933\",\"2021-11-20 20:58:16.958852\",\"2021-11-20 20:58:17.144666\",\"2021-11-20 20:58:17.329996\",\"2021-11-20 20:58:17.619208\",\"2021-11-20 20:58:17.803085\",\"2021-11-20 20:58:17.997747\",\"2021-11-20 20:58:18.279351\",\"2021-11-20 20:58:18.463802\",\"2021-11-20 20:58:18.648431\",\"2021-11-20 20:58:18.867579\",\"2021-11-20 20:58:19.049677\",\"2021-11-20 20:58:19.459481\",\"2021-11-20 20:58:19.976472\",\"2021-11-20 20:58:20.368274\",\"2021-11-20 20:58:20.894162\",\"2021-11-20 20:58:21.308635\",\"2021-11-20 20:58:21.766695\",\"2021-11-20 20:58:22.164288\",\"2021-11-20 20:58:22.404865\",\"2021-11-20 20:58:22.580381\",\"2021-11-20 20:58:22.769509\",\"2021-11-20 20:58:22.993264\",\"2021-11-20 20:58:23.179374\",\"2021-11-20 20:58:23.361611\",\"2021-11-20 20:58:23.565777\",\"2021-11-20 20:58:23.761938\",\"2021-11-20 20:58:23.960480\",\"2021-11-20 20:58:24.171999\",\"2021-11-20 20:58:24.360373\",\"2021-11-20 20:58:24.536452\",\"2021-11-20 20:58:24.767737\",\"2021-11-20 20:58:24.953561\",\"2021-11-20 20:58:25.186104\",\"2021-11-20 20:58:25.407918\",\"2021-11-20 20:58:25.592221\",\"2021-11-20 20:58:25.818812\",\"2021-11-20 20:58:26.049664\",\"2021-11-20 20:58:26.392811\",\"2021-11-20 20:58:26.588833\",\"2021-11-20 20:58:26.996777\",\"2021-11-20 20:58:27.435233\",\"2021-11-20 20:58:27.876925\",\"2021-11-20 20:58:28.303253\",\"2021-11-20 20:58:28.493386\",\"2021-11-20 20:58:28.683963\",\"2021-11-20 20:58:28.933523\",\"2021-11-20 20:58:29.116764\",\"2021-11-20 20:58:29.319611\",\"2021-11-20 20:58:29.510657\",\"2021-11-20 20:58:29.688675\",\"2021-11-20 20:58:29.879880\",\"2021-11-20 20:58:30.067893\",\"2021-11-20 20:58:30.264506\",\"2021-11-20 20:58:30.472139\",\"2021-11-20 20:58:30.732560\",\"2021-11-20 20:58:30.927842\",\"2021-11-20 20:58:31.167173\",\"2021-11-20 20:58:31.387525\",\"2021-11-20 20:58:31.575302\",\"2021-11-20 20:58:31.764101\",\"2021-11-20 20:58:31.960209\",\"2021-11-20 20:58:32.153694\",\"2021-11-20 20:58:32.501960\",\"2021-11-20 20:58:32.692232\",\"2021-11-20 20:58:32.894029\",\"2021-11-20 20:58:33.088803\",\"2021-11-20 20:58:33.280577\",\"2021-11-20 20:58:33.640276\",\"2021-11-20 20:58:33.821731\",\"2021-11-20 20:58:34.006713\",\"2021-11-20 20:58:34.295493\",\"2021-11-20 20:58:34.499237\",\"2021-11-20 20:58:34.681828\",\"2021-11-20 20:58:34.895457\",\"2021-11-20 20:58:35.088375\",\"2021-11-20 20:58:35.359514\",\"2021-11-20 20:58:35.561643\",\"2021-11-20 20:58:36.068961\",\"2021-11-20 20:58:36.264183\",\"2021-11-20 20:58:36.550415\",\"2021-11-20 20:58:36.740494\",\"2021-11-20 20:58:36.928683\",\"2021-11-20 20:58:37.155135\",\"2021-11-20 20:58:37.338042\",\"2021-11-20 20:58:37.529725\",\"2021-11-20 20:58:37.839902\",\"2021-11-20 20:58:38.026095\",\"2021-11-20 20:58:38.217237\",\"2021-11-20 20:58:38.435229\",\"2021-11-20 20:58:38.614710\",\"2021-11-20 20:58:38.802705\",\"2021-11-20 20:58:39.006651\",\"2021-11-20 20:58:39.200019\"],\"index\":[0,1,2,3,4,5,6,7,8,9,10,11,12,13,14,15,16,17,18,19,20,21,22,23,24,25,26,27,28,29,30,31,32,33,34,35,36,37,38,39,40,41,42,43,44,45,46,47,48,49,50,51,52,53,54,55,56,57,58,59,60,61,62,63,64,65,66,67,68,69,70,71,72,73,74,75,76,77,78,79,80,81,82,83,84,85,86,87,88,89,90,91,92,93,94,95,96,97,98,99,100,101,102,103,104,105,106,107,108,109,110,111,112,113,114,115,116,117,118,119,120,121,122,123,124,125,126,127,128,129,130,131,132,133,134,135,136,137,138,139,140,141,142,143,144,145,146,147,148,149,150,151,152,153,154,155,156,157,158,159,160,161,162,163,164,165,166,167,168,169,170,171,172,173,174,175,176,177,178,179,180,181,182,183,184,185,186,187,188,189,190,191,192,193,194,195]},\"selected\":{\"id\":\"3451\"},\"selection_policy\":{\"id\":\"3450\"}},\"id\":\"3302\",\"type\":\"ColumnDataSource\"},{\"attributes\":{},\"id\":\"3448\",\"type\":\"UnionRenderers\"},{\"attributes\":{\"callback\":null},\"id\":\"3287\",\"type\":\"HoverTool\"},{\"attributes\":{},\"id\":\"3279\",\"type\":\"BasicTicker\"},{\"attributes\":{},\"id\":\"3285\",\"type\":\"ResetTool\"},{\"attributes\":{},\"id\":\"3451\",\"type\":\"Selection\"},{\"attributes\":{},\"id\":\"3283\",\"type\":\"PanTool\"},{\"attributes\":{},\"id\":\"3275\",\"type\":\"BasicTicker\"},{\"attributes\":{\"axis\":{\"id\":\"3274\"},\"coordinates\":null,\"group\":null,\"ticker\":null},\"id\":\"3277\",\"type\":\"Grid\"},{\"attributes\":{},\"id\":\"3266\",\"type\":\"DataRange1d\"},{\"attributes\":{\"axis\":{\"id\":\"3278\"},\"coordinates\":null,\"dimension\":1,\"group\":null,\"ticker\":null},\"id\":\"3281\",\"type\":\"Grid\"},{\"attributes\":{},\"id\":\"3282\",\"type\":\"SaveTool\"},{\"attributes\":{},\"id\":\"3286\",\"type\":\"WheelZoomTool\"},{\"attributes\":{\"overlay\":{\"id\":\"3288\"}},\"id\":\"3284\",\"type\":\"BoxZoomTool\"},{\"attributes\":{\"source\":{\"id\":\"3296\"}},\"id\":\"3301\",\"type\":\"CDSView\"},{\"attributes\":{\"coordinates\":null,\"group\":null,\"text\":\"Attention vs Time\"},\"id\":\"3264\",\"type\":\"Title\"},{\"attributes\":{\"axis_label\":\"Group_Mean_Emotion_Value\",\"coordinates\":null,\"formatter\":{\"id\":\"3443\"},\"group\":null,\"major_label_policy\":{\"id\":\"3444\"},\"ticker\":{\"id\":\"3279\"}},\"id\":\"3278\",\"type\":\"LinearAxis\"}],\"root_ids\":[\"3263\"]},\"title\":\"Bokeh Application\",\"version\":\"2.4.1\"}};\n  const render_items = [{\"docid\":\"a82c17d2-a38b-41cb-949e-efb9b1dff0fd\",\"root_ids\":[\"3263\"],\"roots\":{\"3263\":\"06447e1d-a5a9-4f7b-8304-4af25a14fa46\"}}];\n  root.Bokeh.embed.embed_items_notebook(docs_json, render_items);\n\n  }\n  if (root.Bokeh !== undefined) {\n    embed_document(root);\n  } else {\n    let attempts = 0;\n    const timer = setInterval(function(root) {\n      if (root.Bokeh !== undefined) {\n        clearInterval(timer);\n        embed_document(root);\n      } else {\n        attempts++;\n        if (attempts > 100) {\n          clearInterval(timer);\n          console.log(\"Bokeh: ERROR: Unable to run BokehJS code because BokehJS library is missing\");\n        }\n      }\n    }, 10, root)\n  }\n})(window);",
      "application/vnd.bokehjs_exec.v0+json": ""
     },
     "metadata": {
      "application/vnd.bokehjs_exec.v0+json": {
       "id": "3263"
      }
     },
     "output_type": "display_data"
    }
   ],
   "source": [
    "# Time series with the group's interactions\n",
    "def attention_time_series():\n",
    "    path = os.getcwd() +'\\*.csv'\n",
    "    data = pd.DataFrame()\n",
    "    for fname in glob.glob(path):\n",
    "        df = pd.read_csv(fname)\n",
    "        student_id = Path(fname).stem\n",
    "        df['Emotion_Value'].where(~(df['Emotion'] == 'not paying attention'), other=-1, inplace=True)\n",
    "        record = pd.DataFrame({student_id+'_ts': df['Timestamp'], student_id+'_attention': df['Emotion_Value']})\n",
    "        data = pd.concat([data, record], axis=1)\n",
    "    data = data.dropna()\n",
    "    cols = data.columns.tolist()\n",
    "    data['Timestamp'] = data[data.select_dtypes('object').columns.tolist()[0]]\n",
    "    data['Mean_Values'] = data.select_dtypes(np.float64).mean(axis=1)\n",
    "    data = data.drop(columns=cols)\n",
    "    TOOLS = 'save,pan,box_zoom,reset,wheel_zoom,hover'\n",
    "    p = figure(title='Attention vs Time', plot_width=700, plot_height=700, tools=TOOLS)\n",
    "    p.xaxis.axis_label = 'Time'\n",
    "    p.yaxis.axis_label = 'Group_Mean_Emotion_Value'\n",
    "    p.circle(data.loc[data['Mean_Values'] <= 0].index, data['Mean_Values'].loc[data['Mean_Values'] <= 0], size = 10, color = 'red')\n",
    "    p.line('index', 'Mean_Values', line_color='blue', line_width = 3, source=data)\n",
    "    show(p)   \n",
    "\n",
    "attention_time_series()\n"
   ]
  }
 ],
 "metadata": {
  "kernelspec": {
   "display_name": "Python 3 (ipykernel)",
   "language": "python",
   "name": "python3"
  },
  "language_info": {
   "codemirror_mode": {
    "name": "ipython",
    "version": 3
   },
   "file_extension": ".py",
   "mimetype": "text/x-python",
   "name": "python",
   "nbconvert_exporter": "python",
   "pygments_lexer": "ipython3",
   "version": "3.9.1"
  }
 },
 "nbformat": 4,
 "nbformat_minor": 5
}
