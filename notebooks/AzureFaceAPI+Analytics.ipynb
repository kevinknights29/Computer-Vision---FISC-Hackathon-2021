{
 "cells": [
  {
   "cell_type": "code",
   "execution_count": 1,
   "id": "b083a1d9-d82e-4b15-9da5-3697e6a42aaa",
   "metadata": {},
   "outputs": [],
   "source": [
    "#!pip install --upgrade azure-cognitiveservices-vision-face\n",
    "#!pip install ---upgrade azure-storage-blob\n",
    "#!pip install Pillow\n",
    "#!pip install opencv-python\n",
    "#!pip install python-decouple\n",
    "#!pip install bokeh"
   ]
  },
  {
   "cell_type": "code",
   "execution_count": 2,
   "id": "4b6a15fc-6c80-488f-be69-4c815ccf2829",
   "metadata": {},
   "outputs": [],
   "source": [
    "import os\n",
    "import cv2\n",
    "import time\n",
    "import numpy as np\n",
    "import pandas as pd\n",
    "import datetime as dt\n",
    "from decouple import config\n",
    "from PIL import Image, ImageDraw\n",
    "from azure.cognitiveservices.vision.face import FaceClient\n",
    "from msrest.authentication import CognitiveServicesCredentials\n",
    "from azure.cognitiveservices.vision.face.models import TrainingStatusType, Person"
   ]
  },
  {
   "cell_type": "code",
   "execution_count": 3,
   "id": "ad18e8f1-83e1-44ee-bcdd-75c33595ac45",
   "metadata": {},
   "outputs": [],
   "source": [
    "API_KEY = '077054fbed0e4d5982d9ec2edd104542'\n",
    "API_ENDPOINT = 'https://arpanet-faceapi.cognitiveservices.azure.com/'\n",
    "\n",
    "face_client = FaceClient(API_ENDPOINT, CognitiveServicesCredentials(API_KEY))"
   ]
  },
  {
   "cell_type": "code",
   "execution_count": 4,
   "id": "6cd605ef-8fc9-4105-a05b-1709d2f30d09",
   "metadata": {},
   "outputs": [],
   "source": [
    "def getRectangle(faceDictionary):\n",
    "        rect = faceDictionary.face_rectangle\n",
    "        left = rect.left\n",
    "        top = rect.top\n",
    "        right = left + rect.width\n",
    "        bottom = top + rect.height\n",
    "        return ((left, top), (right, bottom))\n",
    "\n",
    "def drawFaceData(img_path, detected_faces):\n",
    "    img = Image.open(img_path)\n",
    "    draw = ImageDraw.Draw(img)\n",
    "    font = cv2.FONT_HERSHEY_SIMPLEX\n",
    "    detected_attributes = \"\"\n",
    "    student_id = \"\"\n",
    "    pos_y = 30\n",
    "    for face in detected_faces:\n",
    "        draw.rectangle(getRectangle(face), outline='red')\n",
    "        detected_attributes = face.face_attributes.as_dict()\n",
    "        student_id = findStudent(students, face.face_id)\n",
    "    img = cv2.cvtColor(np.array(img), cv2.COLOR_BGR2RGB)\n",
    "    try:\n",
    "        emotions = detected_attributes['emotion']\n",
    "        if emotions:\n",
    "            for key,value in emotions.items():\n",
    "                atr = key + ' : ' + str(value)\n",
    "                cv2.putText(img, atr , (30, pos_y), font, 1, (0, 0, 255), 2, cv2.LINE_4)\n",
    "                pos_y += 30\n",
    "    except:\n",
    "        pass\n",
    "    \n",
    "    try:\n",
    "        if len(student_id):\n",
    "            cv2.putText(img, 'Student: ' + student_id, (30, 420), font, 1, (0, 0, 255), 2, cv2.LINE_4)\n",
    "        else:\n",
    "            cv2.putText(img, 'Unknown Student', (30, 420), font, 1, (0, 0, 255), 2, cv2.LINE_4)\n",
    "    except:\n",
    "        cv2.putText(img, 'Unknown Student', (30, 420), font, 1, (0, 0, 255), 2, cv2.LINE_4)\n",
    "    cv2.imshow('ARPANET Stream', img)\n",
    "\n",
    "    \n",
    "def drawUndetected(img_path):\n",
    "    img = Image.open(img_path)\n",
    "    draw = ImageDraw.Draw(img)\n",
    "    font = cv2.FONT_HERSHEY_SIMPLEX\n",
    "    img = cv2.cvtColor(np.array(img), cv2.COLOR_BGR2RGB)\n",
    "    cv2.putText(img, 'No Face Detected - Error Avoided', (30, 420), font, 1, (0, 0, 255), 2, cv2.LINE_4)\n",
    "    cv2.imshow('ARPANET Stream', img)\n",
    "    \n",
    "def getEmotionData(img_path, detected_faces):\n",
    "    img = Image.open(img_path)\n",
    "    draw = ImageDraw.Draw(img)\n",
    "    detected_attributes = \"\"\n",
    "    for face in detected_faces:\n",
    "        detected_attributes = face.face_attributes.as_dict()\n",
    "    try:\n",
    "        emotions = detected_attributes['emotion']\n",
    "        if emotions:\n",
    "            max_emotion = max(emotions, key=emotions.get)\n",
    "            max_emotion_value = emotions[max_emotion]\n",
    "            return {'Timestamp':dt.datetime.now(), 'Emotion':max_emotion, 'Emotion_Value':max_emotion_value}\n",
    "    except:\n",
    "        return {'Timestamp':dt.datetime.now(), 'Emotion':'not paying attention', 'Emotion_Value':-1.0}"
   ]
  },
  {
   "cell_type": "code",
   "execution_count": 5,
   "id": "af92fff8-2527-478f-971d-b047b4dea9fb",
   "metadata": {},
   "outputs": [],
   "source": [
    "try:\n",
    "    face_client.person_group.delete(person_group_id='101010101010')\n",
    "except:\n",
    "    pass\n",
    "\n",
    "UTP_SEDE_PANAMA = '101010101010'\n",
    "GROUP_ID = UTP_SEDE_PANAMA\n",
    "PERSON_ID = '8-926-1807'\n",
    "students = {}\n",
    "student_img_url = 'https://arpanetstorage.blob.core.windows.net/reference-images/8_926_1807.jpeg'"
   ]
  },
  {
   "cell_type": "code",
   "execution_count": 6,
   "id": "73c5df0b-8252-457c-a1d0-9768c3360ca6",
   "metadata": {},
   "outputs": [
    {
     "name": "stdout",
     "output_type": "stream",
     "text": [
      "Training status: running.\n",
      "\n",
      "Training status: succeeded.\n",
      "\n",
      "Face Detect has succeeded.\n"
     ]
    }
   ],
   "source": [
    "face_client.person_group.create(person_group_id=GROUP_ID, name=GROUP_ID)\n",
    "student = face_client.person_group_person.create(GROUP_ID, PERSON_ID)\n",
    "face_client.person_group_person.add_face_from_url(GROUP_ID, student.person_id, student_img_url)\n",
    "face_client.person_group.train(GROUP_ID)\n",
    "\n",
    "while (True):\n",
    "    training_status = face_client.person_group.get_training_status(GROUP_ID)\n",
    "    print(\"Training status: {}.\".format(training_status.status))\n",
    "    print()\n",
    "    if (training_status.status is TrainingStatusType.succeeded):\n",
    "        break\n",
    "    elif (training_status.status is TrainingStatusType.failed):\n",
    "        \n",
    "        face_client.person_group.delete(person_group_id=PERSON_GROUP_ID)\n",
    "        print('Training the person group has failed.')\n",
    "        break\n",
    "    time.sleep(5)\n",
    "\n",
    "try:\n",
    "    reference = face_client.face.detect_with_url(student_img_url, detection_model='detection_01')\n",
    "    reference_id = reference[0].face_id\n",
    "    students[student.person_id] = {'person_id': PERSON_ID, 'reference_id': reference_id}\n",
    "    print('Face Detect has succeeded.')\n",
    "except BaseException as err:\n",
    "    face_client.person_group.delete(person_group_id=GROUP_ID)\n",
    "    print('Face Detect has failed.', 'Error:', err.message)"
   ]
  },
  {
   "cell_type": "code",
   "execution_count": 7,
   "id": "f86c3c11-dcd5-49bf-9512-1c343880264d",
   "metadata": {},
   "outputs": [],
   "source": [
    "def verifyResults(reference_id, detected_id):\n",
    "    verify_result_same = face_client.face.verify_face_to_face(reference_id, detected_id)\n",
    "    if verify_result_same.is_identical:       \n",
    "        return True\n",
    "    else:\n",
    "        return False\n",
    "\n",
    "def findStudent(students, detected_face_id):\n",
    "    for student in students:\n",
    "        student = students[student]\n",
    "        if verifyResults(student['reference_id'], detected_face_id):\n",
    "            return student['person_id']"
   ]
  },
  {
   "cell_type": "code",
   "execution_count": 8,
   "id": "6cb1f6ce-6647-43d5-b5ac-500b6b0290f8",
   "metadata": {},
   "outputs": [],
   "source": [
    "img = 'img.jpeg'\n",
    "img_path = os.path.join(os.getcwd(), img)\n",
    "\n",
    "data = pd.DataFrame(columns=['Timestamp', 'Emotion', 'Emotion_Value'])\n",
    "\n",
    "vid = cv2.VideoCapture(0)\n",
    "\n",
    "while(True):\n",
    "    \n",
    "    ret, frame = vid.read()\n",
    "    cv2.imwrite(img_path, frame)\n",
    "    img_stream = open(img_path, \"rb\")\n",
    "    \n",
    "    try:\n",
    "        detected_faces = face_client.face.detect_with_stream(image = img_stream, recognition_model='recognition_01', return_face_attributes = ['emotion'])\n",
    "        drawFaceData(img_path, detected_faces)\n",
    "    except:\n",
    "        drawUndetected(img_path)\n",
    "        \n",
    "    record = getEmotionData(img_path, detected_faces)\n",
    "    data = data.append(record, ignore_index = True)\n",
    "    \n",
    "    if cv2.waitKey(1) & 0xFF == ord('q'):\n",
    "        break\n",
    "        \n",
    "# After the loop release the cap object\n",
    "vid.release()\n",
    "# Destroy all the windows\n",
    "cv2.destroyAllWindows()"
   ]
  },
  {
   "cell_type": "code",
   "execution_count": 9,
   "id": "1dba1290-6143-4fb2-a1f9-7adbe549062f",
   "metadata": {},
   "outputs": [
    {
     "data": {
      "text/html": [
       "\n",
       "    <div class=\"bk-root\">\n",
       "        <a href=\"https://bokeh.org\" target=\"_blank\" class=\"bk-logo bk-logo-small bk-logo-notebook\"></a>\n",
       "        <span id=\"1002\">Loading BokehJS ...</span>\n",
       "    </div>"
      ]
     },
     "metadata": {},
     "output_type": "display_data"
    },
    {
     "data": {
      "application/javascript": "\n(function(root) {\n  function now() {\n    return new Date();\n  }\n\n  const force = true;\n\n  if (typeof root._bokeh_onload_callbacks === \"undefined\" || force === true) {\n    root._bokeh_onload_callbacks = [];\n    root._bokeh_is_loading = undefined;\n  }\n\n  const JS_MIME_TYPE = 'application/javascript';\n  const HTML_MIME_TYPE = 'text/html';\n  const EXEC_MIME_TYPE = 'application/vnd.bokehjs_exec.v0+json';\n  const CLASS_NAME = 'output_bokeh rendered_html';\n\n  /**\n   * Render data to the DOM node\n   */\n  function render(props, node) {\n    const script = document.createElement(\"script\");\n    node.appendChild(script);\n  }\n\n  /**\n   * Handle when an output is cleared or removed\n   */\n  function handleClearOutput(event, handle) {\n    const cell = handle.cell;\n\n    const id = cell.output_area._bokeh_element_id;\n    const server_id = cell.output_area._bokeh_server_id;\n    // Clean up Bokeh references\n    if (id != null && id in Bokeh.index) {\n      Bokeh.index[id].model.document.clear();\n      delete Bokeh.index[id];\n    }\n\n    if (server_id !== undefined) {\n      // Clean up Bokeh references\n      const cmd_clean = \"from bokeh.io.state import curstate; print(curstate().uuid_to_server['\" + server_id + \"'].get_sessions()[0].document.roots[0]._id)\";\n      cell.notebook.kernel.execute(cmd_clean, {\n        iopub: {\n          output: function(msg) {\n            const id = msg.content.text.trim();\n            if (id in Bokeh.index) {\n              Bokeh.index[id].model.document.clear();\n              delete Bokeh.index[id];\n            }\n          }\n        }\n      });\n      // Destroy server and session\n      const cmd_destroy = \"import bokeh.io.notebook as ion; ion.destroy_server('\" + server_id + \"')\";\n      cell.notebook.kernel.execute(cmd_destroy);\n    }\n  }\n\n  /**\n   * Handle when a new output is added\n   */\n  function handleAddOutput(event, handle) {\n    const output_area = handle.output_area;\n    const output = handle.output;\n\n    // limit handleAddOutput to display_data with EXEC_MIME_TYPE content only\n    if ((output.output_type != \"display_data\") || (!Object.prototype.hasOwnProperty.call(output.data, EXEC_MIME_TYPE))) {\n      return\n    }\n\n    const toinsert = output_area.element.find(\".\" + CLASS_NAME.split(' ')[0]);\n\n    if (output.metadata[EXEC_MIME_TYPE][\"id\"] !== undefined) {\n      toinsert[toinsert.length - 1].firstChild.textContent = output.data[JS_MIME_TYPE];\n      // store reference to embed id on output_area\n      output_area._bokeh_element_id = output.metadata[EXEC_MIME_TYPE][\"id\"];\n    }\n    if (output.metadata[EXEC_MIME_TYPE][\"server_id\"] !== undefined) {\n      const bk_div = document.createElement(\"div\");\n      bk_div.innerHTML = output.data[HTML_MIME_TYPE];\n      const script_attrs = bk_div.children[0].attributes;\n      for (let i = 0; i < script_attrs.length; i++) {\n        toinsert[toinsert.length - 1].firstChild.setAttribute(script_attrs[i].name, script_attrs[i].value);\n        toinsert[toinsert.length - 1].firstChild.textContent = bk_div.children[0].textContent\n      }\n      // store reference to server id on output_area\n      output_area._bokeh_server_id = output.metadata[EXEC_MIME_TYPE][\"server_id\"];\n    }\n  }\n\n  function register_renderer(events, OutputArea) {\n\n    function append_mime(data, metadata, element) {\n      // create a DOM node to render to\n      const toinsert = this.create_output_subarea(\n        metadata,\n        CLASS_NAME,\n        EXEC_MIME_TYPE\n      );\n      this.keyboard_manager.register_events(toinsert);\n      // Render to node\n      const props = {data: data, metadata: metadata[EXEC_MIME_TYPE]};\n      render(props, toinsert[toinsert.length - 1]);\n      element.append(toinsert);\n      return toinsert\n    }\n\n    /* Handle when an output is cleared or removed */\n    events.on('clear_output.CodeCell', handleClearOutput);\n    events.on('delete.Cell', handleClearOutput);\n\n    /* Handle when a new output is added */\n    events.on('output_added.OutputArea', handleAddOutput);\n\n    /**\n     * Register the mime type and append_mime function with output_area\n     */\n    OutputArea.prototype.register_mime_type(EXEC_MIME_TYPE, append_mime, {\n      /* Is output safe? */\n      safe: true,\n      /* Index of renderer in `output_area.display_order` */\n      index: 0\n    });\n  }\n\n  // register the mime type if in Jupyter Notebook environment and previously unregistered\n  if (root.Jupyter !== undefined) {\n    const events = require('base/js/events');\n    const OutputArea = require('notebook/js/outputarea').OutputArea;\n\n    if (OutputArea.prototype.mime_types().indexOf(EXEC_MIME_TYPE) == -1) {\n      register_renderer(events, OutputArea);\n    }\n  }\n\n  \n  if (typeof (root._bokeh_timeout) === \"undefined\" || force === true) {\n    root._bokeh_timeout = Date.now() + 5000;\n    root._bokeh_failed_load = false;\n  }\n\n  const NB_LOAD_WARNING = {'data': {'text/html':\n     \"<div style='background-color: #fdd'>\\n\"+\n     \"<p>\\n\"+\n     \"BokehJS does not appear to have successfully loaded. If loading BokehJS from CDN, this \\n\"+\n     \"may be due to a slow or bad network connection. Possible fixes:\\n\"+\n     \"</p>\\n\"+\n     \"<ul>\\n\"+\n     \"<li>re-rerun `output_notebook()` to attempt to load from CDN again, or</li>\\n\"+\n     \"<li>use INLINE resources instead, as so:</li>\\n\"+\n     \"</ul>\\n\"+\n     \"<code>\\n\"+\n     \"from bokeh.resources import INLINE\\n\"+\n     \"output_notebook(resources=INLINE)\\n\"+\n     \"</code>\\n\"+\n     \"</div>\"}};\n\n  function display_loaded() {\n    const el = document.getElementById(\"1002\");\n    if (el != null) {\n      el.textContent = \"BokehJS is loading...\";\n    }\n    if (root.Bokeh !== undefined) {\n      if (el != null) {\n        el.textContent = \"BokehJS \" + root.Bokeh.version + \" successfully loaded.\";\n      }\n    } else if (Date.now() < root._bokeh_timeout) {\n      setTimeout(display_loaded, 100)\n    }\n  }\n\n\n  function run_callbacks() {\n    try {\n      root._bokeh_onload_callbacks.forEach(function(callback) {\n        if (callback != null)\n          callback();\n      });\n    } finally {\n      delete root._bokeh_onload_callbacks\n    }\n    console.debug(\"Bokeh: all callbacks have finished\");\n  }\n\n  function load_libs(css_urls, js_urls, callback) {\n    if (css_urls == null) css_urls = [];\n    if (js_urls == null) js_urls = [];\n\n    root._bokeh_onload_callbacks.push(callback);\n    if (root._bokeh_is_loading > 0) {\n      console.debug(\"Bokeh: BokehJS is being loaded, scheduling callback at\", now());\n      return null;\n    }\n    if (js_urls == null || js_urls.length === 0) {\n      run_callbacks();\n      return null;\n    }\n    console.debug(\"Bokeh: BokehJS not loaded, scheduling load and callback at\", now());\n    root._bokeh_is_loading = css_urls.length + js_urls.length;\n\n    function on_load() {\n      root._bokeh_is_loading--;\n      if (root._bokeh_is_loading === 0) {\n        console.debug(\"Bokeh: all BokehJS libraries/stylesheets loaded\");\n        run_callbacks()\n      }\n    }\n\n    function on_error(url) {\n      console.error(\"failed to load \" + url);\n    }\n\n    for (let i = 0; i < css_urls.length; i++) {\n      const url = css_urls[i];\n      const element = document.createElement(\"link\");\n      element.onload = on_load;\n      element.onerror = on_error.bind(null, url);\n      element.rel = \"stylesheet\";\n      element.type = \"text/css\";\n      element.href = url;\n      console.debug(\"Bokeh: injecting link tag for BokehJS stylesheet: \", url);\n      document.body.appendChild(element);\n    }\n\n    for (let i = 0; i < js_urls.length; i++) {\n      const url = js_urls[i];\n      const element = document.createElement('script');\n      element.onload = on_load;\n      element.onerror = on_error.bind(null, url);\n      element.async = false;\n      element.src = url;\n      console.debug(\"Bokeh: injecting script tag for BokehJS library: \", url);\n      document.head.appendChild(element);\n    }\n  };\n\n  function inject_raw_css(css) {\n    const element = document.createElement(\"style\");\n    element.appendChild(document.createTextNode(css));\n    document.body.appendChild(element);\n  }\n\n  \n  const js_urls = [\"https://cdn.bokeh.org/bokeh/release/bokeh-2.4.1.min.js\", \"https://cdn.bokeh.org/bokeh/release/bokeh-gl-2.4.1.min.js\", \"https://cdn.bokeh.org/bokeh/release/bokeh-widgets-2.4.1.min.js\", \"https://cdn.bokeh.org/bokeh/release/bokeh-tables-2.4.1.min.js\", \"https://cdn.bokeh.org/bokeh/release/bokeh-mathjax-2.4.1.min.js\"];\n  const css_urls = [];\n  \n\n  const inline_js = [\n    function(Bokeh) {\n      Bokeh.set_log_level(\"info\");\n    },\n    function(Bokeh) {\n    \n    \n    }\n  ];\n\n  function run_inline_js() {\n    \n    if (root.Bokeh !== undefined || force === true) {\n      \n    for (let i = 0; i < inline_js.length; i++) {\n      inline_js[i].call(root, root.Bokeh);\n    }\n    if (force === true) {\n        display_loaded();\n      }} else if (Date.now() < root._bokeh_timeout) {\n      setTimeout(run_inline_js, 100);\n    } else if (!root._bokeh_failed_load) {\n      console.log(\"Bokeh: BokehJS failed to load within specified timeout.\");\n      root._bokeh_failed_load = true;\n    } else if (force !== true) {\n      const cell = $(document.getElementById(\"1002\")).parents('.cell').data().cell;\n      cell.output_area.append_execute_result(NB_LOAD_WARNING)\n    }\n\n  }\n\n  if (root._bokeh_is_loading === 0) {\n    console.debug(\"Bokeh: BokehJS loaded, going straight to plotting\");\n    run_inline_js();\n  } else {\n    load_libs(css_urls, js_urls, function() {\n      console.debug(\"Bokeh: BokehJS plotting callback run at\", now());\n      run_inline_js();\n    });\n  }\n}(window));",
      "application/vnd.bokehjs_load.v0+json": ""
     },
     "metadata": {},
     "output_type": "display_data"
    }
   ],
   "source": [
    "import bokeh.io\n",
    "import statistics\n",
    "from pathlib import Path\n",
    "from bokeh.models import HoverTool, DatetimeTickFormatter\n",
    "from bokeh.plotting import figure, show\n",
    "import matplotlib.pyplot as plt\n",
    "\n",
    "bokeh.io.reset_output()\n",
    "bokeh.io.output_notebook()"
   ]
  },
  {
   "cell_type": "code",
   "execution_count": 10,
   "id": "e862d947-b3a5-445a-b2f0-80798cf00479",
   "metadata": {},
   "outputs": [
    {
     "name": "stdout",
     "output_type": "stream",
     "text": [
      "None\n"
     ]
    },
    {
     "data": {
      "image/png": "[encoded data removed]",
      "text/plain": [
       "<Figure size 432x288 with 1 Axes>"
      ]
     },
     "metadata": {
      "needs_background": "light"
     },
     "output_type": "display_data"
    }
   ],
   "source": [
    "def freqdect(df):\n",
    "    plt.hist(df['Emotion'])\n",
    "    \n",
    "print(freqdect(data))"
   ]
  },
  {
   "cell_type": "code",
   "execution_count": 11,
   "id": "90c93cad-9665-49fd-b2cc-e6fadcbe985b",
   "metadata": {},
   "outputs": [
    {
     "name": "stdout",
     "output_type": "stream",
     "text": [
      "Did pay attention... Mean: 0.39471428571428574\n"
     ]
    }
   ],
   "source": [
    "def mean_of_class(df):    \n",
    "    mean = df['Emotion_Value'].mean()\n",
    "    if mean < 0:\n",
    "        return f'Did not pay attention... Mean: {mean}'\n",
    "    else:\n",
    "        return f'Did pay attention... Mean: {mean}'\n",
    "    \n",
    "print(mean_of_class(data))"
   ]
  },
  {
   "cell_type": "code",
   "execution_count": 12,
   "id": "b0d6c362-bade-4189-b2cc-25d25e16c611",
   "metadata": {},
   "outputs": [
    {
     "data": {
      "text/html": [
       "<div>\n",
       "<style scoped>\n",
       "    .dataframe tbody tr th:only-of-type {\n",
       "        vertical-align: middle;\n",
       "    }\n",
       "\n",
       "    .dataframe tbody tr th {\n",
       "        vertical-align: top;\n",
       "    }\n",
       "\n",
       "    .dataframe thead th {\n",
       "        text-align: right;\n",
       "    }\n",
       "</style>\n",
       "<table border=\"1\" class=\"dataframe\">\n",
       "  <thead>\n",
       "    <tr style=\"text-align: right;\">\n",
       "      <th></th>\n",
       "      <th>student_id</th>\n",
       "      <th>attention_mean</th>\n",
       "      <th>attention_std</th>\n",
       "      <th>npa_count</th>\n",
       "      <th>npa_pct</th>\n",
       "      <th>attention_score</th>\n",
       "      <th>result</th>\n",
       "    </tr>\n",
       "  </thead>\n",
       "  <tbody>\n",
       "    <tr>\n",
       "      <th>0</th>\n",
       "      <td>8-926-1807</td>\n",
       "      <td>0.394714</td>\n",
       "      <td>0.878353</td>\n",
       "      <td>49.0</td>\n",
       "      <td>0.28</td>\n",
       "      <td>0.72</td>\n",
       "      <td>Regular Attention</td>\n",
       "    </tr>\n",
       "  </tbody>\n",
       "</table>\n",
       "</div>"
      ],
      "text/plain": [
       "   student_id  attention_mean  attention_std  npa_count  npa_pct  \\\n",
       "0  8-926-1807        0.394714       0.878353       49.0     0.28   \n",
       "\n",
       "   attention_score             result  \n",
       "0             0.72  Regular Attention  "
      ]
     },
     "execution_count": 12,
     "metadata": {},
     "output_type": "execute_result"
    }
   ],
   "source": [
    "def attention_analytics(df):\n",
    "    _data = pd.DataFrame()\n",
    "    std = df['Emotion_Value'].std() #Desviacion estandar\n",
    "    median = df['Emotion_Value'].median() #Media\n",
    "    mean = df['Emotion_Value'].mean()\n",
    "    npa_count = df['Emotion'].loc[df['Emotion'] == 'not paying attention'].count()\n",
    "    npa_pct = npa_count / df['Emotion'].count()\n",
    "    score = 1 - npa_pct\n",
    "    result = ''\n",
    "    if score >= 0.8:\n",
    "        result = 'Good Attention'\n",
    "    elif (0.8 > score) and (score >= 0.5):\n",
    "        result = 'Regular Attention'\n",
    "    else:\n",
    "        result = 'Lack of Attention'\n",
    "    estudiante={'student_id':'8-926-1807','attention_mean':mean, 'attention_std':std, 'npa_count': npa_count, 'npa_pct': npa_pct, 'attention_score': score, 'result': result}\n",
    "    _data = _data.append(estudiante,ignore_index=True)\n",
    "    return _data[['student_id','attention_mean','attention_std','npa_count', 'npa_pct', 'attention_score', 'result']]\n",
    "        \n",
    "attention_analytics(data)"
   ]
  },
  {
   "cell_type": "code",
   "execution_count": 13,
   "id": "332604bc-26be-4b0f-949e-1d12af589387",
   "metadata": {},
   "outputs": [
    {
     "data": {
      "text/html": [
       "\n",
       "\n",
       "\n",
       "\n",
       "\n",
       "\n",
       "  <div class=\"bk-root\" id=\"1d1e8c4e-4529-43e5-8a90-82ce47f93280\" data-root-id=\"1003\"></div>\n"
      ]
     },
     "metadata": {},
     "output_type": "display_data"
    },
    {
     "data": {
      "application/javascript": "(function(root) {\n  function embed_document(root) {\n    \n  const docs_json = {\"21520be4-6505-4008-9e25-8c44d7a758fe\":{\"defs\":[],\"roots\":{\"references\":[{\"attributes\":{\"below\":[{\"id\":\"1014\"}],\"center\":[{\"id\":\"1017\"},{\"id\":\"1021\"}],\"height\":700,\"left\":[{\"id\":\"1018\"}],\"renderers\":[{\"id\":\"1048\"},{\"id\":\"1055\"}],\"title\":{\"id\":\"1004\"},\"toolbar\":{\"id\":\"1029\"},\"width\":700,\"x_range\":{\"id\":\"1006\"},\"x_scale\":{\"id\":\"1010\"},\"y_range\":{\"id\":\"1008\"},\"y_scale\":{\"id\":\"1012\"}},\"id\":\"1003\",\"subtype\":\"Figure\",\"type\":\"Plot\"},{\"attributes\":{},\"id\":\"1019\",\"type\":\"BasicTicker\"},{\"attributes\":{},\"id\":\"1008\",\"type\":\"DataRange1d\"},{\"attributes\":{\"axis\":{\"id\":\"1014\"},\"coordinates\":null,\"group\":null,\"ticker\":null},\"id\":\"1017\",\"type\":\"Grid\"},{\"attributes\":{\"fill_color\":{\"value\":\"red\"},\"hatch_color\":{\"value\":\"red\"},\"line_color\":{\"value\":\"red\"},\"size\":{\"value\":10},\"x\":{\"field\":\"x\"},\"y\":{\"value\":-1.0}},\"id\":\"1045\",\"type\":\"Circle\"},{\"attributes\":{},\"id\":\"1066\",\"type\":\"UnionRenderers\"},{\"attributes\":{\"axis_label\":\"Emotion_Value\",\"coordinates\":null,\"formatter\":{\"id\":\"1038\"},\"group\":null,\"major_label_policy\":{\"id\":\"1039\"},\"ticker\":{\"id\":\"1019\"}},\"id\":\"1018\",\"type\":\"LinearAxis\"},{\"attributes\":{},\"id\":\"1038\",\"type\":\"BasicTickFormatter\"},{\"attributes\":{},\"id\":\"1015\",\"type\":\"BasicTicker\"},{\"attributes\":{\"fill_alpha\":{\"value\":0.1},\"fill_color\":{\"value\":\"red\"},\"hatch_alpha\":{\"value\":0.1},\"hatch_color\":{\"value\":\"red\"},\"line_alpha\":{\"value\":0.1},\"line_color\":{\"value\":\"red\"},\"size\":{\"value\":10},\"x\":{\"field\":\"x\"},\"y\":{\"value\":-1.0}},\"id\":\"1046\",\"type\":\"Circle\"},{\"attributes\":{\"coordinates\":null,\"data_source\":{\"id\":\"1044\"},\"glyph\":{\"id\":\"1045\"},\"group\":null,\"hover_glyph\":null,\"muted_glyph\":{\"id\":\"1047\"},\"nonselection_glyph\":{\"id\":\"1046\"},\"view\":{\"id\":\"1049\"}},\"id\":\"1048\",\"type\":\"GlyphRenderer\"},{\"attributes\":{},\"id\":\"1067\",\"type\":\"Selection\"},{\"attributes\":{\"overlay\":{\"id\":\"1028\"}},\"id\":\"1024\",\"type\":\"BoxZoomTool\"},{\"attributes\":{\"axis_label\":\"Time\",\"coordinates\":null,\"formatter\":{\"id\":\"1041\"},\"group\":null,\"major_label_policy\":{\"id\":\"1042\"},\"ticker\":{\"id\":\"1015\"}},\"id\":\"1014\",\"type\":\"LinearAxis\"},{\"attributes\":{},\"id\":\"1025\",\"type\":\"ResetTool\"},{\"attributes\":{},\"id\":\"1041\",\"type\":\"BasicTickFormatter\"},{\"attributes\":{},\"id\":\"1006\",\"type\":\"DataRange1d\"},{\"attributes\":{},\"id\":\"1039\",\"type\":\"AllLabels\"},{\"attributes\":{\"coordinates\":null,\"group\":null,\"text\":\"Attention vs Time\"},\"id\":\"1004\",\"type\":\"Title\"},{\"attributes\":{},\"id\":\"1065\",\"type\":\"Selection\"},{\"attributes\":{\"fill_alpha\":{\"value\":0.2},\"fill_color\":{\"value\":\"red\"},\"hatch_alpha\":{\"value\":0.2},\"hatch_color\":{\"value\":\"red\"},\"line_alpha\":{\"value\":0.2},\"line_color\":{\"value\":\"red\"},\"size\":{\"value\":10},\"x\":{\"field\":\"x\"},\"y\":{\"value\":-1.0}},\"id\":\"1047\",\"type\":\"Circle\"},{\"attributes\":{},\"id\":\"1064\",\"type\":\"UnionRenderers\"},{\"attributes\":{},\"id\":\"1042\",\"type\":\"AllLabels\"},{\"attributes\":{},\"id\":\"1023\",\"type\":\"PanTool\"},{\"attributes\":{},\"id\":\"1010\",\"type\":\"LinearScale\"},{\"attributes\":{},\"id\":\"1012\",\"type\":\"LinearScale\"},{\"attributes\":{\"coordinates\":null,\"data_source\":{\"id\":\"1050\"},\"glyph\":{\"id\":\"1052\"},\"group\":null,\"hover_glyph\":null,\"muted_glyph\":{\"id\":\"1054\"},\"nonselection_glyph\":{\"id\":\"1053\"},\"view\":{\"id\":\"1056\"}},\"id\":\"1055\",\"type\":\"GlyphRenderer\"},{\"attributes\":{\"bottom_units\":\"screen\",\"coordinates\":null,\"fill_alpha\":0.5,\"fill_color\":\"lightgrey\",\"group\":null,\"left_units\":\"screen\",\"level\":\"overlay\",\"line_alpha\":1.0,\"line_color\":\"black\",\"line_dash\":[4,4],\"line_width\":2,\"right_units\":\"screen\",\"syncable\":false,\"top_units\":\"screen\"},\"id\":\"1028\",\"type\":\"BoxAnnotation\"},{\"attributes\":{\"line_alpha\":0.2,\"line_color\":\"blue\",\"line_width\":3,\"x\":{\"field\":\"Timestamp\"},\"y\":{\"field\":\"Emotion_Value\"}},\"id\":\"1054\",\"type\":\"Line\"},{\"attributes\":{},\"id\":\"1026\",\"type\":\"WheelZoomTool\"},{\"attributes\":{\"source\":{\"id\":\"1050\"}},\"id\":\"1056\",\"type\":\"CDSView\"},{\"attributes\":{\"data\":{\"x\":{\"__ndarray__\":\"4URzQ4XVd0LFEoJDhdV3QhSSjkOF1XdCoAKbQ4XVd0Ks8KhDhdV3QuUOtUOF1XdCAl/CQ4XVd0I54s5DhdV3QqS22kOF1XdCNbLmQ4XVd0LPg/ZDhdV3QkJAAkSF1XdCz7MQRIXVd0J7cB1EhdV3QsNxKkSF1XdC7mo3RIXVd0Kqj0VEhdV3Qp7vUUSF1XdCoDJhRIXVd0LPE21EhdV3QkpsLEaF1XdCH6s4RoXVd0LZyEdGhdV3QvhnU0aF1XdCwcJfRoXVd0I1yGtGhdV3QnOedkaF1XdC2WadRoXVd0L4talGhdV3QokztkaF1XdCCJLCRoXVd0JQg85GhdV3QqCC20aF1XdCTBPoRoXVd0KR2fRGhdV3QmaQBUeF1XdC7JsRR4XVd0J3HiFHhdV3QuVYLUeF1XdCK9k5R4XVd0KBJU5HhdV3Qm21W0eF1XdCXANpR4XVd0JvhnVHhdV3QggqgkeF1XdC/giYR4XVd0Ivh0VIhdV3QueT2EuF1XdCGdrqS4XVd0I=\",\"dtype\":\"float64\",\"order\":\"little\",\"shape\":[49]}},\"selected\":{\"id\":\"1065\"},\"selection_policy\":{\"id\":\"1064\"}},\"id\":\"1044\",\"type\":\"ColumnDataSource\"},{\"attributes\":{\"axis\":{\"id\":\"1018\"},\"coordinates\":null,\"dimension\":1,\"group\":null,\"ticker\":null},\"id\":\"1021\",\"type\":\"Grid\"},{\"attributes\":{},\"id\":\"1022\",\"type\":\"SaveTool\"},{\"attributes\":{\"data\":{\"Emotion\":[\"neutral\",\"neutral\",\"neutral\",\"neutral\",\"neutral\",\"neutral\",\"neutral\",\"neutral\",\"neutral\",\"neutral\",\"neutral\",\"neutral\",\"neutral\",\"neutral\",\"neutral\",\"neutral\",\"neutral\",\"neutral\",\"neutral\",\"neutral\",\"neutral\",\"neutral\",\"neutral\",\"neutral\",\"neutral\",\"neutral\",\"neutral\",\"neutral\",\"neutral\",\"neutral\",\"neutral\",\"neutral\",\"neutral\",\"neutral\",\"neutral\",\"neutral\",\"neutral\",\"neutral\",\"neutral\",\"neutral\",\"neutral\",\"neutral\",\"neutral\",\"neutral\",\"neutral\",\"neutral\",\"neutral\",\"neutral\",\"neutral\",\"neutral\",\"neutral\",\"not paying attention\",\"not paying attention\",\"not paying attention\",\"not paying attention\",\"not paying attention\",\"not paying attention\",\"not paying attention\",\"not paying attention\",\"not paying attention\",\"not paying attention\",\"not paying attention\",\"not paying attention\",\"not paying attention\",\"not paying attention\",\"not paying attention\",\"not paying attention\",\"not paying attention\",\"not paying attention\",\"not paying attention\",\"not paying attention\",\"neutral\",\"neutral\",\"neutral\",\"neutral\",\"neutral\",\"neutral\",\"neutral\",\"neutral\",\"neutral\",\"neutral\",\"neutral\",\"neutral\",\"neutral\",\"neutral\",\"neutral\",\"not paying attention\",\"not paying attention\",\"not paying attention\",\"not paying attention\",\"not paying attention\",\"not paying attention\",\"not paying attention\",\"neutral\",\"not paying attention\",\"not paying attention\",\"not paying attention\",\"not paying attention\",\"not paying attention\",\"not paying attention\",\"not paying attention\",\"not paying attention\",\"not paying attention\",\"not paying attention\",\"not paying attention\",\"not paying attention\",\"not paying attention\",\"not paying attention\",\"not paying attention\",\"not paying attention\",\"not paying attention\",\"not paying attention\",\"not paying attention\",\"neutral\",\"neutral\",\"neutral\",\"neutral\",\"neutral\",\"neutral\",\"not paying attention\",\"neutral\",\"neutral\",\"neutral\",\"neutral\",\"neutral\",\"neutral\",\"neutral\",\"neutral\",\"neutral\",\"neutral\",\"neutral\",\"neutral\",\"surprise\",\"surprise\",\"surprise\",\"neutral\",\"neutral\",\"happiness\",\"happiness\",\"happiness\",\"happiness\",\"happiness\",\"happiness\",\"neutral\",\"neutral\",\"neutral\",\"neutral\",\"neutral\",\"neutral\",\"neutral\",\"anger\",\"anger\",\"not paying attention\",\"not paying attention\",\"neutral\",\"neutral\",\"neutral\",\"neutral\",\"neutral\",\"neutral\",\"neutral\",\"neutral\",\"neutral\",\"neutral\",\"neutral\",\"neutral\",\"neutral\",\"neutral\",\"neutral\",\"neutral\",\"neutral\",\"neutral\",\"neutral\",\"neutral\",\"neutral\"],\"Emotion_Value\":{\"__ndarray__\":\"K4cW2c737z8AAAAAAADwP4GVQ4ts5+8/AAAAAAAA8D8AAAAAAADwPyuHFtnO9+8/16NwPQrX7z8zMzMzMzPvP65H4XoUru8/NV66SQwC7z8rhxbZzvfvP1g5tMh2vu8/16NwPQrX7z/ZzvdT46XvPwAAAAAAAPA/K4cW2c737z/Xo3A9CtfvP4GVQ4ts5+8/LbKd76fG7z9WDi2yne/vPyuHFtnO9+8/AAAAAAAA8D9zaJHtfD/tPyuHFtnO9+8/Vg4tsp3v7z/ufD81XrrlP5ZDi2zn++k/AAAAAAAA8D8AAAAAAADwP/yp8dJNYuw/yXa+nxov7T8AAAAAAADwP1YOLbKd7+8/MQisHFpk7z9WDi2yne/vP6wcWmQ73+8/K4cW2c737z8rhxbZzvfvP9nO91Pjpe8/gZVDi2zn7z8AAAAAAADwPwAAAAAAAPA/K4cW2c737z+BlUOLbOfvP4GVQ4ts5+8/rBxaZDvf7z++nxov3STuPxBYObTIdu4/Vg4tsp3v6z9WDi2yne/rP9ejcD0K1+8/AAAAAAAA8L8AAAAAAADwvwAAAAAAAPC/AAAAAAAA8L8AAAAAAADwvwAAAAAAAPC/AAAAAAAA8L8AAAAAAADwvwAAAAAAAPC/AAAAAAAA8L8AAAAAAADwvwAAAAAAAPC/AAAAAAAA8L8AAAAAAADwvwAAAAAAAPC/AAAAAAAA8L8AAAAAAADwvwAAAAAAAPC/AAAAAAAA8L8AAAAAAADwv+XQItv5fuo/LbKd76fG7z8IrBxaZDvvP9ejcD0K1+8/gZVDi2zn7z/0/dR46SbtP6wcWmQ73+8/K4cW2c737z8rhxbZzvfvP6wcWmQ73+8/BoGVQ4ts7z8rhxbZzvfvPxBYObTIdu4/g8DKoUW27z8rhxbZzvfvPwAAAAAAAPC/AAAAAAAA8L8AAAAAAADwvwAAAAAAAPC/AAAAAAAA8L8AAAAAAADwvwAAAAAAAPC/CtejcD0K6z8AAAAAAADwvwAAAAAAAPC/AAAAAAAA8L8AAAAAAADwvwAAAAAAAPC/AAAAAAAA8L8AAAAAAADwvwAAAAAAAPC/AAAAAAAA8L8AAAAAAADwvwAAAAAAAPC/AAAAAAAA8L8AAAAAAADwvwAAAAAAAPC/AAAAAAAA8L8AAAAAAADwvwAAAAAAAPC/AAAAAAAA8L8AAAAAAADwv1YOLbKd7+8/Vg4tsp3v7z8bL90kBoHlPxfZzvdT4+0/rBxaZDvf7z/b+X5qvHTvPwAAAAAAAPC/rkfhehSu7z+sHFpkO9/vP1YOLbKd7+8/O99PjZdu7j81XrpJDALvP9nO91Pjpe8/gZVDi2zn7z+BlUOLbOfvP7Kd76fGS+8/AiuHFtnO7z8rhxbZzvfvPx1aZDvfT+E/xSCwcmiR7T+HFtnO91PvP7TIdr6fGu8/sp3vp8ZL4z+PwvUoXI/uP2q8dJMYBN4/Vg4tsp3v7z8AAAAAAADwPwAAAAAAAPA/AAAAAAAA8D8v3SQGgZXrP4GVQ4ts5+8/gZVDi2zn7z/jpZvEILDuP2Dl0CLb+eY/ke18PzVe6j+cxCCwcmjtP3sUrkfheuA/9P3UeOkm5T8nMQisHFrgPwAAAAAAAPC/AAAAAAAA8L8rhxbZzvfvPyuHFtnO9+8/K4cW2c737z+mm8QgsHLoP1YOLbKd7+8/K4cW2c737z8AAAAAAADwP1K4HoXrUeA/6SYxCKwc6j8OLbKd76fqP+xRuB6F6+0/K4cW2c737z/ZzvdT46XvP4XrUbgehe8/AiuHFtnO7z+BlUOLbOfvP9nO91Pjpe8/UI2XbhKD5D9g5dAi2/nuP2ZmZmZmZuY/Vg4tsp3v7z8=\",\"dtype\":\"float64\",\"order\":\"little\",\"shape\":[175]},\"Timestamp\":{\"__ndarray__\":\"5d7gPYXVd0KRy/s9hdV3QjU0Gj6F1XdCcTE0PoXVd0JxEVM+hdV3QinEbT6F1XdCx1uJPoXVd0JQ46Q+hdV3Qqp/wD6F1XdC7IffPoXVd0L+fvk+hdV3QhfhFz+F1XdCuHozP4XVd0IjO1I/hdV3Qrjaaz+F1XdCe1CFP4XVd0JKhKU/hdV3QuXKwj+F1XdC/qjeP4XVd0L+APs/hdV3Qov6FECF1XdCHXIvQIXVd0KNY09AhdV3QsN/aUCF1XdCfXmFQIXVd0Jefp5AhdV3QgKlvkCF1XdCuunZQIXVd0LyWPNAhdV3QsUMD0GF1XdCz0cpQYXVd0IE8kJBhdV3QvaaXEGF1XdCN095QYXVd0JtQZJBhdV3QrxqrUGF1XdCMZTJQYXVd0J9FehBhdV3QhAqAkKF1XdC/E0dQoXVd0K0VDlChdV3QpjiYUKF1XdCw9GCQoXVd0LbB6VChdV3QjV2vkKF1XdCb8LaQoXVd0IvQfVChdV3Qhv9EkOF1XdCuNotQ4XVd0LPDU1DhdV3QneSZkOF1XdC4URzQ4XVd0LFEoJDhdV3QhSSjkOF1XdCoAKbQ4XVd0Ks8KhDhdV3QuUOtUOF1XdCAl/CQ4XVd0I54s5DhdV3QqS22kOF1XdCNbLmQ4XVd0LPg/ZDhdV3QkJAAkSF1XdCz7MQRIXVd0J7cB1EhdV3QsNxKkSF1XdC7mo3RIXVd0Kqj0VEhdV3Qp7vUUSF1XdCoDJhRIXVd0LPE21EhdV3Qrx2i0SF1XdCMdCmRIXVd0Ji9sNEhdV3Qg573kSF1XdCcaP6RIXVd0JKlBpFhdV3Qs3yOUWF1XdCTpRXRYXVd0JtpX1FhdV3QnGll0WF1XdC+HOzRYXVd0KsIM5FhdV3QrAq6UWF1XdCTk4ERoXVd0J/mCBGhdV3QkpsLEaF1XdCH6s4RoXVd0LZyEdGhdV3QvhnU0aF1XdCwcJfRoXVd0I1yGtGhdV3QnOedkaF1XdCmHKRRoXVd0LZZp1GhdV3Qvi1qUaF1XdCiTO2RoXVd0IIksJGhdV3QlCDzkaF1XdCoILbRoXVd0JME+hGhdV3QpHZ9EaF1XdCZpAFR4XVd0LsmxFHhdV3QnceIUeF1XdC5VgtR4XVd0Ir2TlHhdV3QoElTkeF1XdCbbVbR4XVd0JcA2lHhdV3Qm+GdUeF1XdCCCqCR4XVd0L+CJhHhdV3Qqwqs0eF1XdC7mjNR4XVd0KsculHhdV3QtOxBUiF1XdCc+QfSIXVd0IADDlIhdV3Qi+HRUiF1XdCh2peSIXVd0L2OHlIhdV3Qn3tlkiF1XdCaPmwSIXVd0LuHMxIhdV3QlpE50iF1XdCYogJSYXVd0KFfSNJhdV3QjGOPkmF1XdCL6VaSYXVd0IAinZJhdV3QsN1j0mF1XdC4cypSYXVd0L4pcNJhdV3Qi+z4kmF1XdClvP+SYXVd0KWtxxKhdV3QmrUOUqF1XdCe9ZVSoXVd0LPj3xKhdV3QhK9lkqF1XdCXoiySoXVd0KLiM1KhdV3QrBm6kqF1XdCO90GS4XVd0I93CBLhdV3QvYUPEuF1XdC5VJaS4XVd0L4YXZLhdV3Qj2wlUuF1XdCf0yvS4XVd0I1isxLhdV3QueT2EuF1XdCGdrqS4XVd0JzpARMhdV3QgCYIkyF1XdCUvA9TIXVd0Lbk1dMhdV3QuWCcEyF1XdCqJaKTIXVd0LBPKlMhdV3Qs93w0yF1XdCiZfdTIXVd0Ij7/5MhdV3QokJHE2F1XdCKws7TYXVd0IjcVRNhdV3QpjgcE2F1XdC9v6MTYXVd0J1K6pNhdV3QlAzwk2F1XdCtl3dTYXVd0LZ2vpNhdV3QrzwHE6F1XdCHyM5ToXVd0I=\",\"dtype\":\"float64\",\"order\":\"little\",\"shape\":[175]},\"Timestamp_Str\":[\"2021-11-25 18:20:31.117931\",\"2021-11-25 18:20:31.548723\",\"2021-11-25 18:20:32.035263\",\"2021-11-25 18:20:32.451090\",\"2021-11-25 18:20:32.945090\",\"2021-11-25 18:20:33.372260\",\"2021-11-25 18:20:33.813736\",\"2021-11-25 18:20:34.254207\",\"2021-11-25 18:20:34.695979\",\"2021-11-25 18:20:35.192495\",\"2021-11-25 18:20:35.607937\",\"2021-11-25 18:20:36.094068\",\"2021-11-25 18:20:36.535670\",\"2021-11-25 18:20:37.027696\",\"2021-11-25 18:20:37.437670\",\"2021-11-25 18:20:37.845030\",\"2021-11-25 18:20:38.360268\",\"2021-11-25 18:20:38.828681\",\"2021-11-25 18:20:39.274562\",\"2021-11-25 18:20:39.728062\",\"2021-11-25 18:20:40.143659\",\"2021-11-25 18:20:40.567132\",\"2021-11-25 18:20:41.078222\",\"2021-11-25 18:20:41.495985\",\"2021-11-25 18:20:41.943593\",\"2021-11-25 18:20:42.343898\",\"2021-11-25 18:20:42.858313\",\"2021-11-25 18:20:43.294608\",\"2021-11-25 18:20:43.701559\",\"2021-11-25 18:20:44.144798\",\"2021-11-25 18:20:44.564488\",\"2021-11-25 18:20:44.975126\",\"2021-11-25 18:20:45.385685\",\"2021-11-25 18:20:45.844951\",\"2021-11-25 18:20:46.244089\",\"2021-11-25 18:20:46.678671\",\"2021-11-25 18:20:47.129262\",\"2021-11-25 18:20:47.617343\",\"2021-11-25 18:20:48.034629\",\"2021-11-25 18:20:48.468874\",\"2021-11-25 18:20:48.917294\",\"2021-11-25 18:20:49.566162\",\"2021-11-25 18:20:50.093110\",\"2021-11-25 18:20:50.640491\",\"2021-11-25 18:20:51.047388\",\"2021-11-25 18:20:51.500152\",\"2021-11-25 18:20:51.924074\",\"2021-11-25 18:20:52.399819\",\"2021-11-25 18:20:52.829670\",\"2021-11-25 18:20:53.328863\",\"2021-11-25 18:20:53.737154\",\"2021-11-25 18:20:53.940305\",\"2021-11-25 18:20:54.177173\",\"2021-11-25 18:20:54.377130\",\"2021-11-25 18:20:54.576164\",\"2021-11-25 18:20:54.799042\",\"2021-11-25 18:20:54.992931\",\"2021-11-25 18:20:55.205938\",\"2021-11-25 18:20:55.406139\",\"2021-11-25 18:20:55.595415\",\"2021-11-25 18:20:55.787138\",\"2021-11-25 18:20:56.040238\",\"2021-11-25 18:20:56.228016\",\"2021-11-25 18:20:56.459238\",\"2021-11-25 18:20:56.663030\",\"2021-11-25 18:20:56.871110\",\"2021-11-25 18:20:57.078683\",\"2021-11-25 18:20:57.304979\",\"2021-11-25 18:20:57.502976\",\"2021-11-25 18:20:57.747164\",\"2021-11-25 18:20:57.937238\",\"2021-11-25 18:20:58.423421\",\"2021-11-25 18:20:58.861012\",\"2021-11-25 18:20:59.327399\",\"2021-11-25 18:20:59.751691\",\"2021-11-25 18:21:00.202215\",\"2021-11-25 18:21:00.713268\",\"2021-11-25 18:21:01.215175\",\"2021-11-25 18:21:01.689269\",\"2021-11-25 18:21:02.298339\",\"2021-11-25 18:21:02.714340\",\"2021-11-25 18:21:03.159248\",\"2021-11-25 18:21:03.586042\",\"2021-11-25 18:21:04.018668\",\"2021-11-25 18:21:04.452894\",\"2021-11-25 18:21:04.905531\",\"2021-11-25 18:21:05.094768\",\"2021-11-25 18:21:05.290695\",\"2021-11-25 18:21:05.532553\",\"2021-11-25 18:21:05.718498\",\"2021-11-25 18:21:05.916172\",\"2021-11-25 18:21:06.108513\",\"2021-11-25 18:21:06.281903\",\"2021-11-25 18:21:06.711162\",\"2021-11-25 18:21:06.902428\",\"2021-11-25 18:21:07.099373\",\"2021-11-25 18:21:07.299221\",\"2021-11-25 18:21:07.497127\",\"2021-11-25 18:21:07.688207\",\"2021-11-25 18:21:07.896164\",\"2021-11-25 18:21:08.097206\",\"2021-11-25 18:21:08.301598\",\"2021-11-25 18:21:08.569025\",\"2021-11-25 18:21:08.761745\",\"2021-11-25 18:21:09.009904\",\"2021-11-25 18:21:09.205556\",\"2021-11-25 18:21:09.405573\",\"2021-11-25 18:21:09.730344\",\"2021-11-25 18:21:09.947339\",\"2021-11-25 18:21:10.160210\",\"2021-11-25 18:21:10.360402\",\"2021-11-25 18:21:10.562627\",\"2021-11-25 18:21:10.912562\",\"2021-11-25 18:21:11.346667\",\"2021-11-25 18:21:11.766558\",\"2021-11-25 18:21:12.215167\",\"2021-11-25 18:21:12.667114\",\"2021-11-25 18:21:13.086278\",\"2021-11-25 18:21:13.488750\",\"2021-11-25 18:21:13.688449\",\"2021-11-25 18:21:14.086658\",\"2021-11-25 18:21:14.515560\",\"2021-11-25 18:21:14.990843\",\"2021-11-25 18:21:15.407588\",\"2021-11-25 18:21:15.841808\",\"2021-11-25 18:21:16.276272\",\"2021-11-25 18:21:16.824524\",\"2021-11-25 18:21:17.239845\",\"2021-11-25 18:21:17.672887\",\"2021-11-25 18:21:18.122324\",\"2021-11-25 18:21:18.568625\",\"2021-11-25 18:21:18.967360\",\"2021-11-25 18:21:19.388805\",\"2021-11-25 18:21:19.802373\",\"2021-11-25 18:21:20.299199\",\"2021-11-25 18:21:20.751224\",\"2021-11-25 18:21:21.227474\",\"2021-11-25 18:21:21.693276\",\"2021-11-25 18:21:22.141405\",\"2021-11-25 18:21:22.760988\",\"2021-11-25 18:21:23.179817\",\"2021-11-25 18:21:23.624523\",\"2021-11-25 18:21:24.056534\",\"2021-11-25 18:21:24.518418\",\"2021-11-25 18:21:24.973827\",\"2021-11-25 18:21:25.389765\",\"2021-11-25 18:21:25.825310\",\"2021-11-25 18:21:26.309181\",\"2021-11-25 18:21:26.758123\",\"2021-11-25 18:21:27.259015\",\"2021-11-25 18:21:27.668781\",\"2021-11-25 18:21:28.136638\",\"2021-11-25 18:21:28.329244\",\"2021-11-25 18:21:28.621631\",\"2021-11-25 18:21:29.034278\",\"2021-11-25 18:21:29.513500\",\"2021-11-25 18:21:29.951020\",\"2021-11-25 18:21:30.361241\",\"2021-11-25 18:21:30.760181\",\"2021-11-25 18:21:31.177416\",\"2021-11-25 18:21:31.667797\",\"2021-11-25 18:21:32.087488\",\"2021-11-25 18:21:32.505471\",\"2021-11-25 18:21:33.038946\",\"2021-11-25 18:21:33.504596\",\"2021-11-25 18:21:34.000698\",\"2021-11-25 18:21:34.407071\",\"2021-11-25 18:21:34.862037\",\"2021-11-25 18:21:35.311935\",\"2021-11-25 18:21:35.778716\",\"2021-11-25 18:21:36.163207\",\"2021-11-25 18:21:36.597857\",\"2021-11-25 18:21:37.069678\",\"2021-11-25 18:21:37.615046\",\"2021-11-25 18:21:38.066195\"],\"index\":[0,1,2,3,4,5,6,7,8,9,10,11,12,13,14,15,16,17,18,19,20,21,22,23,24,25,26,27,28,29,30,31,32,33,34,35,36,37,38,39,40,41,42,43,44,45,46,47,48,49,50,51,52,53,54,55,56,57,58,59,60,61,62,63,64,65,66,67,68,69,70,71,72,73,74,75,76,77,78,79,80,81,82,83,84,85,86,87,88,89,90,91,92,93,94,95,96,97,98,99,100,101,102,103,104,105,106,107,108,109,110,111,112,113,114,115,116,117,118,119,120,121,122,123,124,125,126,127,128,129,130,131,132,133,134,135,136,137,138,139,140,141,142,143,144,145,146,147,148,149,150,151,152,153,154,155,156,157,158,159,160,161,162,163,164,165,166,167,168,169,170,171,172,173,174]},\"selected\":{\"id\":\"1067\"},\"selection_policy\":{\"id\":\"1066\"}},\"id\":\"1050\",\"type\":\"ColumnDataSource\"},{\"attributes\":{\"tools\":[{\"id\":\"1022\"},{\"id\":\"1023\"},{\"id\":\"1024\"},{\"id\":\"1025\"},{\"id\":\"1026\"},{\"id\":\"1027\"}]},\"id\":\"1029\",\"type\":\"Toolbar\"},{\"attributes\":{\"line_color\":\"blue\",\"line_width\":3,\"x\":{\"field\":\"Timestamp\"},\"y\":{\"field\":\"Emotion_Value\"}},\"id\":\"1052\",\"type\":\"Line\"},{\"attributes\":{\"callback\":null,\"tooltips\":[[\"index\",\"$index\"],[\"Time\",\"@Timestamp_Str\"],[\"Emotion\",\"@Emotion\"]]},\"id\":\"1027\",\"type\":\"HoverTool\"},{\"attributes\":{\"source\":{\"id\":\"1044\"}},\"id\":\"1049\",\"type\":\"CDSView\"},{\"attributes\":{\"line_alpha\":0.1,\"line_color\":\"blue\",\"line_width\":3,\"x\":{\"field\":\"Timestamp\"},\"y\":{\"field\":\"Emotion_Value\"}},\"id\":\"1053\",\"type\":\"Line\"}],\"root_ids\":[\"1003\"]},\"title\":\"Bokeh Application\",\"version\":\"2.4.1\"}};\n  const render_items = [{\"docid\":\"21520be4-6505-4008-9e25-8c44d7a758fe\",\"root_ids\":[\"1003\"],\"roots\":{\"1003\":\"1d1e8c4e-4529-43e5-8a90-82ce47f93280\"}}];\n  root.Bokeh.embed.embed_items_notebook(docs_json, render_items);\n\n  }\n  if (root.Bokeh !== undefined) {\n    embed_document(root);\n  } else {\n    let attempts = 0;\n    const timer = setInterval(function(root) {\n      if (root.Bokeh !== undefined) {\n        clearInterval(timer);\n        embed_document(root);\n      } else {\n        attempts++;\n        if (attempts > 100) {\n          clearInterval(timer);\n          console.log(\"Bokeh: ERROR: Unable to run BokehJS code because BokehJS library is missing\");\n        }\n      }\n    }, 10, root)\n  }\n})(window);",
      "application/vnd.bokehjs_exec.v0+json": ""
     },
     "metadata": {
      "application/vnd.bokehjs_exec.v0+json": {
       "id": "1003"
      }
     },
     "output_type": "display_data"
    }
   ],
   "source": [
    "def attention_time_series(df):\n",
    "    df['Timestamp_Str'] = df['Timestamp'].astype('string')\n",
    "    TOOLS = 'save,pan,box_zoom,reset,wheel_zoom,hover'\n",
    "    p = figure(title='Attention vs Time', plot_width=700, plot_height=700, tools=TOOLS)\n",
    "    p.xaxis.axis_label = 'Time'\n",
    "    p.yaxis.axis_label = 'Emotion_Value'\n",
    "    p.select_one(HoverTool).tooltips = [\n",
    "        ('index', '$index'),\n",
    "        ('Time', '@Timestamp_Str'),\n",
    "        ('Emotion', '@Emotion')\n",
    "    ]\n",
    "    p.circle(df['Timestamp'].loc[df.Emotion_Value == df.Emotion_Value.min()], df.Emotion_Value.min(), size = 10, color = 'red')\n",
    "    p.line('Timestamp', 'Emotion_Value', line_color='blue', line_width = 3, source=df)\n",
    "    show(p)\n",
    "    df.drop(columns=['Timestamp_Str'])\n",
    "\n",
    "attention_time_series(data)"
   ]
  }
 ],
 "metadata": {
  "kernelspec": {
   "display_name": "Python 3 (ipykernel)",
   "language": "python",
   "name": "python3"
  },
  "language_info": {
   "codemirror_mode": {
    "name": "ipython",
    "version": 3
   },
   "file_extension": ".py",
   "mimetype": "text/x-python",
   "name": "python",
   "nbconvert_exporter": "python",
   "pygments_lexer": "ipython3",
   "version": "3.9.1"
  }
 },
 "nbformat": 4,
 "nbformat_minor": 5
}
